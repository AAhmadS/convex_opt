{
  "nbformat": 4,
  "nbformat_minor": 0,
  "metadata": {
    "colab": {
      "provenance": [],
      "authorship_tag": "ABX9TyPMzf7GN6OGJ1iWkiUV3GoM",
      "include_colab_link": true
    },
    "kernelspec": {
      "name": "python3",
      "display_name": "Python 3"
    },
    "language_info": {
      "name": "python"
    }
  },
  "cells": [
    {
      "cell_type": "markdown",
      "metadata": {
        "id": "view-in-github",
        "colab_type": "text"
      },
      "source": [
        "<a href=\"https://colab.research.google.com/github/AAhmadS/convex_opt/blob/main/convexOpt.ipynb\" target=\"_parent\"><img src=\"https://colab.research.google.com/assets/colab-badge.svg\" alt=\"Open In Colab\"/></a>"
      ]
    },
    {
      "cell_type": "code",
      "execution_count": 1,
      "metadata": {
        "id": "FwvvY9BuQNbh"
      },
      "outputs": [],
      "source": [
        "import plotly\n",
        "import matplotlib\n",
        "import numpy as np\n",
        "import scipy\n",
        "import random\n",
        "import pandas as pd\n",
        "\n",
        "from numpy import pad\n",
        "import matplotlib.pyplot as plt\n",
        "plt.switch_backend('agg')\n",
        "%matplotlib inline\n",
        "import matplotlib.ticker as ticker"
      ]
    },
    {
      "cell_type": "code",
      "source": [
        "from google.colab import drive\n",
        "drive.mount('/content/drive')"
      ],
      "metadata": {
        "colab": {
          "base_uri": "https://localhost:8080/"
        },
        "id": "pyeM1LopS1Yj",
        "outputId": "e347831d-caf2-40ee-e489-25ee61d32049"
      },
      "execution_count": 2,
      "outputs": [
        {
          "output_type": "stream",
          "name": "stdout",
          "text": [
            "Mounted at /content/drive\n"
          ]
        }
      ]
    },
    {
      "cell_type": "code",
      "source": [
        "%mkdir /content/drive/MyDrive/cOpt\n",
        "%cd /content/drive/MyDrive/cOpt"
      ],
      "metadata": {
        "colab": {
          "base_uri": "https://localhost:8080/"
        },
        "id": "aYnktbJJTOP7",
        "outputId": "0423e0fc-750e-4b25-ea3e-1798cbebfb23"
      },
      "execution_count": 3,
      "outputs": [
        {
          "output_type": "stream",
          "name": "stdout",
          "text": [
            "mkdir: cannot create directory ‘/content/drive/MyDrive/cOpt’: File exists\n",
            "/content/drive/MyDrive/cOpt\n"
          ]
        }
      ]
    },
    {
      "cell_type": "markdown",
      "source": [
        "#Load data"
      ],
      "metadata": {
        "id": "IzCFIeX0T58l"
      }
    },
    {
      "cell_type": "code",
      "source": [
        "data = pd.read_csv('house_data.csv')"
      ],
      "metadata": {
        "id": "pRP9lskmTW0m"
      },
      "execution_count": 4,
      "outputs": []
    },
    {
      "cell_type": "code",
      "source": [
        "data.head(5)"
      ],
      "metadata": {
        "colab": {
          "base_uri": "https://localhost:8080/",
          "height": 206
        },
        "id": "ilGFM_q1Tp6p",
        "outputId": "cf732179-303b-40cb-bcce-0c83088322e6"
      },
      "execution_count": 5,
      "outputs": [
        {
          "output_type": "execute_result",
          "data": {
            "text/plain": [
              "   size  bedrooms  bathrooms  age  Tehran  Esfehan  Yazd  Shiraz  Tabriz  \\\n",
              "0   152         1          3    3       0        0     0       0       1   \n",
              "1   142         1          2   23       0        0     1       0       0   \n",
              "2    64         1          2   26       0        0     0       0       1   \n",
              "3   156         2          3   37       0        0     0       0       1   \n",
              "4   121         4          2   24       0        0     1       0       0   \n",
              "\n",
              "         price  \n",
              "0  981653.9936  \n",
              "1  870284.3499  \n",
              "2  515868.5989  \n",
              "3  979655.8731  \n",
              "4  859453.6265  "
            ],
            "text/html": [
              "\n",
              "  <div id=\"df-6a19c689-126f-4383-b694-32eb89eb3d96\">\n",
              "    <div class=\"colab-df-container\">\n",
              "      <div>\n",
              "<style scoped>\n",
              "    .dataframe tbody tr th:only-of-type {\n",
              "        vertical-align: middle;\n",
              "    }\n",
              "\n",
              "    .dataframe tbody tr th {\n",
              "        vertical-align: top;\n",
              "    }\n",
              "\n",
              "    .dataframe thead th {\n",
              "        text-align: right;\n",
              "    }\n",
              "</style>\n",
              "<table border=\"1\" class=\"dataframe\">\n",
              "  <thead>\n",
              "    <tr style=\"text-align: right;\">\n",
              "      <th></th>\n",
              "      <th>size</th>\n",
              "      <th>bedrooms</th>\n",
              "      <th>bathrooms</th>\n",
              "      <th>age</th>\n",
              "      <th>Tehran</th>\n",
              "      <th>Esfehan</th>\n",
              "      <th>Yazd</th>\n",
              "      <th>Shiraz</th>\n",
              "      <th>Tabriz</th>\n",
              "      <th>price</th>\n",
              "    </tr>\n",
              "  </thead>\n",
              "  <tbody>\n",
              "    <tr>\n",
              "      <th>0</th>\n",
              "      <td>152</td>\n",
              "      <td>1</td>\n",
              "      <td>3</td>\n",
              "      <td>3</td>\n",
              "      <td>0</td>\n",
              "      <td>0</td>\n",
              "      <td>0</td>\n",
              "      <td>0</td>\n",
              "      <td>1</td>\n",
              "      <td>981653.9936</td>\n",
              "    </tr>\n",
              "    <tr>\n",
              "      <th>1</th>\n",
              "      <td>142</td>\n",
              "      <td>1</td>\n",
              "      <td>2</td>\n",
              "      <td>23</td>\n",
              "      <td>0</td>\n",
              "      <td>0</td>\n",
              "      <td>1</td>\n",
              "      <td>0</td>\n",
              "      <td>0</td>\n",
              "      <td>870284.3499</td>\n",
              "    </tr>\n",
              "    <tr>\n",
              "      <th>2</th>\n",
              "      <td>64</td>\n",
              "      <td>1</td>\n",
              "      <td>2</td>\n",
              "      <td>26</td>\n",
              "      <td>0</td>\n",
              "      <td>0</td>\n",
              "      <td>0</td>\n",
              "      <td>0</td>\n",
              "      <td>1</td>\n",
              "      <td>515868.5989</td>\n",
              "    </tr>\n",
              "    <tr>\n",
              "      <th>3</th>\n",
              "      <td>156</td>\n",
              "      <td>2</td>\n",
              "      <td>3</td>\n",
              "      <td>37</td>\n",
              "      <td>0</td>\n",
              "      <td>0</td>\n",
              "      <td>0</td>\n",
              "      <td>0</td>\n",
              "      <td>1</td>\n",
              "      <td>979655.8731</td>\n",
              "    </tr>\n",
              "    <tr>\n",
              "      <th>4</th>\n",
              "      <td>121</td>\n",
              "      <td>4</td>\n",
              "      <td>2</td>\n",
              "      <td>24</td>\n",
              "      <td>0</td>\n",
              "      <td>0</td>\n",
              "      <td>1</td>\n",
              "      <td>0</td>\n",
              "      <td>0</td>\n",
              "      <td>859453.6265</td>\n",
              "    </tr>\n",
              "  </tbody>\n",
              "</table>\n",
              "</div>\n",
              "      <button class=\"colab-df-convert\" onclick=\"convertToInteractive('df-6a19c689-126f-4383-b694-32eb89eb3d96')\"\n",
              "              title=\"Convert this dataframe to an interactive table.\"\n",
              "              style=\"display:none;\">\n",
              "        \n",
              "  <svg xmlns=\"http://www.w3.org/2000/svg\" height=\"24px\"viewBox=\"0 0 24 24\"\n",
              "       width=\"24px\">\n",
              "    <path d=\"M0 0h24v24H0V0z\" fill=\"none\"/>\n",
              "    <path d=\"M18.56 5.44l.94 2.06.94-2.06 2.06-.94-2.06-.94-.94-2.06-.94 2.06-2.06.94zm-11 1L8.5 8.5l.94-2.06 2.06-.94-2.06-.94L8.5 2.5l-.94 2.06-2.06.94zm10 10l.94 2.06.94-2.06 2.06-.94-2.06-.94-.94-2.06-.94 2.06-2.06.94z\"/><path d=\"M17.41 7.96l-1.37-1.37c-.4-.4-.92-.59-1.43-.59-.52 0-1.04.2-1.43.59L10.3 9.45l-7.72 7.72c-.78.78-.78 2.05 0 2.83L4 21.41c.39.39.9.59 1.41.59.51 0 1.02-.2 1.41-.59l7.78-7.78 2.81-2.81c.8-.78.8-2.07 0-2.86zM5.41 20L4 18.59l7.72-7.72 1.47 1.35L5.41 20z\"/>\n",
              "  </svg>\n",
              "      </button>\n",
              "      \n",
              "  <style>\n",
              "    .colab-df-container {\n",
              "      display:flex;\n",
              "      flex-wrap:wrap;\n",
              "      gap: 12px;\n",
              "    }\n",
              "\n",
              "    .colab-df-convert {\n",
              "      background-color: #E8F0FE;\n",
              "      border: none;\n",
              "      border-radius: 50%;\n",
              "      cursor: pointer;\n",
              "      display: none;\n",
              "      fill: #1967D2;\n",
              "      height: 32px;\n",
              "      padding: 0 0 0 0;\n",
              "      width: 32px;\n",
              "    }\n",
              "\n",
              "    .colab-df-convert:hover {\n",
              "      background-color: #E2EBFA;\n",
              "      box-shadow: 0px 1px 2px rgba(60, 64, 67, 0.3), 0px 1px 3px 1px rgba(60, 64, 67, 0.15);\n",
              "      fill: #174EA6;\n",
              "    }\n",
              "\n",
              "    [theme=dark] .colab-df-convert {\n",
              "      background-color: #3B4455;\n",
              "      fill: #D2E3FC;\n",
              "    }\n",
              "\n",
              "    [theme=dark] .colab-df-convert:hover {\n",
              "      background-color: #434B5C;\n",
              "      box-shadow: 0px 1px 3px 1px rgba(0, 0, 0, 0.15);\n",
              "      filter: drop-shadow(0px 1px 2px rgba(0, 0, 0, 0.3));\n",
              "      fill: #FFFFFF;\n",
              "    }\n",
              "  </style>\n",
              "\n",
              "      <script>\n",
              "        const buttonEl =\n",
              "          document.querySelector('#df-6a19c689-126f-4383-b694-32eb89eb3d96 button.colab-df-convert');\n",
              "        buttonEl.style.display =\n",
              "          google.colab.kernel.accessAllowed ? 'block' : 'none';\n",
              "\n",
              "        async function convertToInteractive(key) {\n",
              "          const element = document.querySelector('#df-6a19c689-126f-4383-b694-32eb89eb3d96');\n",
              "          const dataTable =\n",
              "            await google.colab.kernel.invokeFunction('convertToInteractive',\n",
              "                                                     [key], {});\n",
              "          if (!dataTable) return;\n",
              "\n",
              "          const docLinkHtml = 'Like what you see? Visit the ' +\n",
              "            '<a target=\"_blank\" href=https://colab.research.google.com/notebooks/data_table.ipynb>data table notebook</a>'\n",
              "            + ' to learn more about interactive tables.';\n",
              "          element.innerHTML = '';\n",
              "          dataTable['output_type'] = 'display_data';\n",
              "          await google.colab.output.renderOutput(dataTable, element);\n",
              "          const docLink = document.createElement('div');\n",
              "          docLink.innerHTML = docLinkHtml;\n",
              "          element.appendChild(docLink);\n",
              "        }\n",
              "      </script>\n",
              "    </div>\n",
              "  </div>\n",
              "  "
            ]
          },
          "metadata": {},
          "execution_count": 5
        }
      ]
    },
    {
      "cell_type": "code",
      "source": [
        "data[\"place\"] = ['Tehran' for x in data['Tehran']]\n",
        "data[\"place\"][data['Esfehan'] == 1] = 'Esfehan'\n",
        "data[\"place\"][data['Yazd'] == 1] = 'Yazd'\n",
        "data[\"place\"][data['Shiraz'] == 1] = 'Shiraz'\n",
        "data[\"place\"][data['Tabriz'] == 1] = 'Tabriz'"
      ],
      "metadata": {
        "colab": {
          "base_uri": "https://localhost:8080/"
        },
        "id": "PjXs_5tBUsD9",
        "outputId": "b2de6fd6-64ef-4848-a790-8f34274693b3"
      },
      "execution_count": 6,
      "outputs": [
        {
          "output_type": "stream",
          "name": "stderr",
          "text": [
            "<ipython-input-6-a03fe5c3958c>:2: SettingWithCopyWarning: \n",
            "A value is trying to be set on a copy of a slice from a DataFrame\n",
            "\n",
            "See the caveats in the documentation: https://pandas.pydata.org/pandas-docs/stable/user_guide/indexing.html#returning-a-view-versus-a-copy\n",
            "  data[\"place\"][data['Esfehan'] == 1] = 'Esfehan'\n",
            "<ipython-input-6-a03fe5c3958c>:3: SettingWithCopyWarning: \n",
            "A value is trying to be set on a copy of a slice from a DataFrame\n",
            "\n",
            "See the caveats in the documentation: https://pandas.pydata.org/pandas-docs/stable/user_guide/indexing.html#returning-a-view-versus-a-copy\n",
            "  data[\"place\"][data['Yazd'] == 1] = 'Yazd'\n",
            "<ipython-input-6-a03fe5c3958c>:4: SettingWithCopyWarning: \n",
            "A value is trying to be set on a copy of a slice from a DataFrame\n",
            "\n",
            "See the caveats in the documentation: https://pandas.pydata.org/pandas-docs/stable/user_guide/indexing.html#returning-a-view-versus-a-copy\n",
            "  data[\"place\"][data['Shiraz'] == 1] = 'Shiraz'\n",
            "<ipython-input-6-a03fe5c3958c>:5: SettingWithCopyWarning: \n",
            "A value is trying to be set on a copy of a slice from a DataFrame\n",
            "\n",
            "See the caveats in the documentation: https://pandas.pydata.org/pandas-docs/stable/user_guide/indexing.html#returning-a-view-versus-a-copy\n",
            "  data[\"place\"][data['Tabriz'] == 1] = 'Tabriz'\n"
          ]
        }
      ]
    },
    {
      "cell_type": "code",
      "source": [
        "data.head(10)"
      ],
      "metadata": {
        "colab": {
          "base_uri": "https://localhost:8080/",
          "height": 363
        },
        "id": "vDS7Uef1VKn5",
        "outputId": "7f90637a-378e-403c-bfa8-81d9c284b6fd"
      },
      "execution_count": 7,
      "outputs": [
        {
          "output_type": "execute_result",
          "data": {
            "text/plain": [
              "   size  bedrooms  bathrooms  age  Tehran  Esfehan  Yazd  Shiraz  Tabriz  \\\n",
              "0   152         1          3    3       0        0     0       0       1   \n",
              "1   142         1          2   23       0        0     1       0       0   \n",
              "2    64         1          2   26       0        0     0       0       1   \n",
              "3   156         2          3   37       0        0     0       0       1   \n",
              "4   121         4          2   24       0        0     1       0       0   \n",
              "5    70         4          3   49       0        0     0       1       0   \n",
              "6   152         3          3   19       0        1     0       0       0   \n",
              "7   171         2          2   25       0        0     1       0       0   \n",
              "8   124         1          2   21       1        0     0       0       0   \n",
              "9   137         2          1   12       0        0     0       1       0   \n",
              "\n",
              "         price    place  \n",
              "0  981653.9936   Tabriz  \n",
              "1  870284.3499     Yazd  \n",
              "2  515868.5989   Tabriz  \n",
              "3  979655.8731   Tabriz  \n",
              "4  859453.6265     Yazd  \n",
              "5  570964.5346   Shiraz  \n",
              "6  931339.0588  Esfehan  \n",
              "7  957482.5839     Yazd  \n",
              "8  858480.4773   Tehran  \n",
              "9  876345.6038   Shiraz  "
            ],
            "text/html": [
              "\n",
              "  <div id=\"df-60ffcbf9-2972-40a2-8483-8fef96f7e22a\">\n",
              "    <div class=\"colab-df-container\">\n",
              "      <div>\n",
              "<style scoped>\n",
              "    .dataframe tbody tr th:only-of-type {\n",
              "        vertical-align: middle;\n",
              "    }\n",
              "\n",
              "    .dataframe tbody tr th {\n",
              "        vertical-align: top;\n",
              "    }\n",
              "\n",
              "    .dataframe thead th {\n",
              "        text-align: right;\n",
              "    }\n",
              "</style>\n",
              "<table border=\"1\" class=\"dataframe\">\n",
              "  <thead>\n",
              "    <tr style=\"text-align: right;\">\n",
              "      <th></th>\n",
              "      <th>size</th>\n",
              "      <th>bedrooms</th>\n",
              "      <th>bathrooms</th>\n",
              "      <th>age</th>\n",
              "      <th>Tehran</th>\n",
              "      <th>Esfehan</th>\n",
              "      <th>Yazd</th>\n",
              "      <th>Shiraz</th>\n",
              "      <th>Tabriz</th>\n",
              "      <th>price</th>\n",
              "      <th>place</th>\n",
              "    </tr>\n",
              "  </thead>\n",
              "  <tbody>\n",
              "    <tr>\n",
              "      <th>0</th>\n",
              "      <td>152</td>\n",
              "      <td>1</td>\n",
              "      <td>3</td>\n",
              "      <td>3</td>\n",
              "      <td>0</td>\n",
              "      <td>0</td>\n",
              "      <td>0</td>\n",
              "      <td>0</td>\n",
              "      <td>1</td>\n",
              "      <td>981653.9936</td>\n",
              "      <td>Tabriz</td>\n",
              "    </tr>\n",
              "    <tr>\n",
              "      <th>1</th>\n",
              "      <td>142</td>\n",
              "      <td>1</td>\n",
              "      <td>2</td>\n",
              "      <td>23</td>\n",
              "      <td>0</td>\n",
              "      <td>0</td>\n",
              "      <td>1</td>\n",
              "      <td>0</td>\n",
              "      <td>0</td>\n",
              "      <td>870284.3499</td>\n",
              "      <td>Yazd</td>\n",
              "    </tr>\n",
              "    <tr>\n",
              "      <th>2</th>\n",
              "      <td>64</td>\n",
              "      <td>1</td>\n",
              "      <td>2</td>\n",
              "      <td>26</td>\n",
              "      <td>0</td>\n",
              "      <td>0</td>\n",
              "      <td>0</td>\n",
              "      <td>0</td>\n",
              "      <td>1</td>\n",
              "      <td>515868.5989</td>\n",
              "      <td>Tabriz</td>\n",
              "    </tr>\n",
              "    <tr>\n",
              "      <th>3</th>\n",
              "      <td>156</td>\n",
              "      <td>2</td>\n",
              "      <td>3</td>\n",
              "      <td>37</td>\n",
              "      <td>0</td>\n",
              "      <td>0</td>\n",
              "      <td>0</td>\n",
              "      <td>0</td>\n",
              "      <td>1</td>\n",
              "      <td>979655.8731</td>\n",
              "      <td>Tabriz</td>\n",
              "    </tr>\n",
              "    <tr>\n",
              "      <th>4</th>\n",
              "      <td>121</td>\n",
              "      <td>4</td>\n",
              "      <td>2</td>\n",
              "      <td>24</td>\n",
              "      <td>0</td>\n",
              "      <td>0</td>\n",
              "      <td>1</td>\n",
              "      <td>0</td>\n",
              "      <td>0</td>\n",
              "      <td>859453.6265</td>\n",
              "      <td>Yazd</td>\n",
              "    </tr>\n",
              "    <tr>\n",
              "      <th>5</th>\n",
              "      <td>70</td>\n",
              "      <td>4</td>\n",
              "      <td>3</td>\n",
              "      <td>49</td>\n",
              "      <td>0</td>\n",
              "      <td>0</td>\n",
              "      <td>0</td>\n",
              "      <td>1</td>\n",
              "      <td>0</td>\n",
              "      <td>570964.5346</td>\n",
              "      <td>Shiraz</td>\n",
              "    </tr>\n",
              "    <tr>\n",
              "      <th>6</th>\n",
              "      <td>152</td>\n",
              "      <td>3</td>\n",
              "      <td>3</td>\n",
              "      <td>19</td>\n",
              "      <td>0</td>\n",
              "      <td>1</td>\n",
              "      <td>0</td>\n",
              "      <td>0</td>\n",
              "      <td>0</td>\n",
              "      <td>931339.0588</td>\n",
              "      <td>Esfehan</td>\n",
              "    </tr>\n",
              "    <tr>\n",
              "      <th>7</th>\n",
              "      <td>171</td>\n",
              "      <td>2</td>\n",
              "      <td>2</td>\n",
              "      <td>25</td>\n",
              "      <td>0</td>\n",
              "      <td>0</td>\n",
              "      <td>1</td>\n",
              "      <td>0</td>\n",
              "      <td>0</td>\n",
              "      <td>957482.5839</td>\n",
              "      <td>Yazd</td>\n",
              "    </tr>\n",
              "    <tr>\n",
              "      <th>8</th>\n",
              "      <td>124</td>\n",
              "      <td>1</td>\n",
              "      <td>2</td>\n",
              "      <td>21</td>\n",
              "      <td>1</td>\n",
              "      <td>0</td>\n",
              "      <td>0</td>\n",
              "      <td>0</td>\n",
              "      <td>0</td>\n",
              "      <td>858480.4773</td>\n",
              "      <td>Tehran</td>\n",
              "    </tr>\n",
              "    <tr>\n",
              "      <th>9</th>\n",
              "      <td>137</td>\n",
              "      <td>2</td>\n",
              "      <td>1</td>\n",
              "      <td>12</td>\n",
              "      <td>0</td>\n",
              "      <td>0</td>\n",
              "      <td>0</td>\n",
              "      <td>1</td>\n",
              "      <td>0</td>\n",
              "      <td>876345.6038</td>\n",
              "      <td>Shiraz</td>\n",
              "    </tr>\n",
              "  </tbody>\n",
              "</table>\n",
              "</div>\n",
              "      <button class=\"colab-df-convert\" onclick=\"convertToInteractive('df-60ffcbf9-2972-40a2-8483-8fef96f7e22a')\"\n",
              "              title=\"Convert this dataframe to an interactive table.\"\n",
              "              style=\"display:none;\">\n",
              "        \n",
              "  <svg xmlns=\"http://www.w3.org/2000/svg\" height=\"24px\"viewBox=\"0 0 24 24\"\n",
              "       width=\"24px\">\n",
              "    <path d=\"M0 0h24v24H0V0z\" fill=\"none\"/>\n",
              "    <path d=\"M18.56 5.44l.94 2.06.94-2.06 2.06-.94-2.06-.94-.94-2.06-.94 2.06-2.06.94zm-11 1L8.5 8.5l.94-2.06 2.06-.94-2.06-.94L8.5 2.5l-.94 2.06-2.06.94zm10 10l.94 2.06.94-2.06 2.06-.94-2.06-.94-.94-2.06-.94 2.06-2.06.94z\"/><path d=\"M17.41 7.96l-1.37-1.37c-.4-.4-.92-.59-1.43-.59-.52 0-1.04.2-1.43.59L10.3 9.45l-7.72 7.72c-.78.78-.78 2.05 0 2.83L4 21.41c.39.39.9.59 1.41.59.51 0 1.02-.2 1.41-.59l7.78-7.78 2.81-2.81c.8-.78.8-2.07 0-2.86zM5.41 20L4 18.59l7.72-7.72 1.47 1.35L5.41 20z\"/>\n",
              "  </svg>\n",
              "      </button>\n",
              "      \n",
              "  <style>\n",
              "    .colab-df-container {\n",
              "      display:flex;\n",
              "      flex-wrap:wrap;\n",
              "      gap: 12px;\n",
              "    }\n",
              "\n",
              "    .colab-df-convert {\n",
              "      background-color: #E8F0FE;\n",
              "      border: none;\n",
              "      border-radius: 50%;\n",
              "      cursor: pointer;\n",
              "      display: none;\n",
              "      fill: #1967D2;\n",
              "      height: 32px;\n",
              "      padding: 0 0 0 0;\n",
              "      width: 32px;\n",
              "    }\n",
              "\n",
              "    .colab-df-convert:hover {\n",
              "      background-color: #E2EBFA;\n",
              "      box-shadow: 0px 1px 2px rgba(60, 64, 67, 0.3), 0px 1px 3px 1px rgba(60, 64, 67, 0.15);\n",
              "      fill: #174EA6;\n",
              "    }\n",
              "\n",
              "    [theme=dark] .colab-df-convert {\n",
              "      background-color: #3B4455;\n",
              "      fill: #D2E3FC;\n",
              "    }\n",
              "\n",
              "    [theme=dark] .colab-df-convert:hover {\n",
              "      background-color: #434B5C;\n",
              "      box-shadow: 0px 1px 3px 1px rgba(0, 0, 0, 0.15);\n",
              "      filter: drop-shadow(0px 1px 2px rgba(0, 0, 0, 0.3));\n",
              "      fill: #FFFFFF;\n",
              "    }\n",
              "  </style>\n",
              "\n",
              "      <script>\n",
              "        const buttonEl =\n",
              "          document.querySelector('#df-60ffcbf9-2972-40a2-8483-8fef96f7e22a button.colab-df-convert');\n",
              "        buttonEl.style.display =\n",
              "          google.colab.kernel.accessAllowed ? 'block' : 'none';\n",
              "\n",
              "        async function convertToInteractive(key) {\n",
              "          const element = document.querySelector('#df-60ffcbf9-2972-40a2-8483-8fef96f7e22a');\n",
              "          const dataTable =\n",
              "            await google.colab.kernel.invokeFunction('convertToInteractive',\n",
              "                                                     [key], {});\n",
              "          if (!dataTable) return;\n",
              "\n",
              "          const docLinkHtml = 'Like what you see? Visit the ' +\n",
              "            '<a target=\"_blank\" href=https://colab.research.google.com/notebooks/data_table.ipynb>data table notebook</a>'\n",
              "            + ' to learn more about interactive tables.';\n",
              "          element.innerHTML = '';\n",
              "          dataTable['output_type'] = 'display_data';\n",
              "          await google.colab.output.renderOutput(dataTable, element);\n",
              "          const docLink = document.createElement('div');\n",
              "          docLink.innerHTML = docLinkHtml;\n",
              "          element.appendChild(docLink);\n",
              "        }\n",
              "      </script>\n",
              "    </div>\n",
              "  </div>\n",
              "  "
            ]
          },
          "metadata": {},
          "execution_count": 7
        }
      ]
    },
    {
      "cell_type": "markdown",
      "source": [
        "#Plot distribution of price within each categorical data"
      ],
      "metadata": {
        "id": "ID98wgqKT7gz"
      }
    },
    {
      "cell_type": "code",
      "source": [
        "for x in [\"age\",\"bathrooms\",\"place\"] :\n",
        "  data2 = data[[\"price\",x]].groupby(by=x).mean()\n",
        "\n",
        "  courses = list(data2.index)\n",
        "  values = list(data2[\"price\"])\n",
        "\n",
        "  fig = plt.figure(figsize=(10, 5))\n",
        "\n",
        "  # creating the bar plot\n",
        "  plt.bar(courses, values, color='maroon')\n",
        "\n",
        "  plt.xlabel(f\"unique values within {x}\")\n",
        "  plt.ylabel(f\"house price\")\n",
        "  plt.title(f\"mean price value with regards to {x} variable\")\n",
        "  plt.show()"
      ],
      "metadata": {
        "id": "KbyB0sPwUQAi",
        "colab": {
          "base_uri": "https://localhost:8080/",
          "height": 1000
        },
        "outputId": "73dd8173-5147-4199-9829-201aa0123751"
      },
      "execution_count": 8,
      "outputs": [
        {
          "output_type": "display_data",
          "data": {
            "text/plain": [
              "<Figure size 1000x500 with 1 Axes>"
            ],
            "image/png": "[encoded data removed]"
          },
          "metadata": {}
        },
        {
          "output_type": "display_data",
          "data": {
            "text/plain": [
              "<Figure size 1000x500 with 1 Axes>"
            ],
            "image/png": "[encoded data removed]"
          },
          "metadata": {}
        },
        {
          "output_type": "display_data",
          "data": {
            "text/plain": [
              "<Figure size 1000x500 with 1 Axes>"
            ],
            "image/png": "[encoded data removed]"
          },
          "metadata": {}
        }
      ]
    },
    {
      "cell_type": "markdown",
      "source": [
        "#Train-Test split"
      ],
      "metadata": {
        "id": "q2WkVdY_d5Gu"
      }
    },
    {
      "cell_type": "code",
      "source": [
        "train_indices = random.sample(list(np.arange(data.shape[0])),int(0.85*data.shape[0]))\n",
        "test_indices = [ind for ind in list(np.arange(data.shape[0])) if ind not in train_indices]\n",
        "train_data = data.iloc[train_indices]\n",
        "test_data = data.iloc[test_indices]"
      ],
      "metadata": {
        "id": "M-yPk4EoXhYX"
      },
      "execution_count": 9,
      "outputs": []
    },
    {
      "cell_type": "code",
      "source": [
        "numerical = ['size','bedrooms','bathrooms','age']\n",
        "for var in numerical:\n",
        "  mean_var = data[var].mean()\n",
        "  std_var = np.std(data[var])\n",
        "  print(f\"mean value and std related to {x} variable within data is being :{mean_var},{std_var}\")\n",
        "  print(\"-\"*20)\n",
        "  train_data[var] = [(x - mean_var)/std_var for x in train_data[var]]\n",
        "  test_data[var] = [(x - mean_var)/std_var for x in test_data[var]]"
      ],
      "metadata": {
        "colab": {
          "base_uri": "https://localhost:8080/"
        },
        "id": "A79UNi_tf6YI",
        "outputId": "ac6ffbaf-3185-48a3-fc62-3f8ae53c257d"
      },
      "execution_count": 10,
      "outputs": [
        {
          "output_type": "stream",
          "name": "stdout",
          "text": [
            "mean value and std related to place variable within data is being :125.846,43.76501209870734\n",
            "--------------------\n",
            "mean value and std related to place variable within data is being :2.473,1.1132254937792254\n",
            "--------------------\n",
            "mean value and std related to place variable within data is being :1.961,0.8046607981006655\n",
            "--------------------\n",
            "mean value and std related to place variable within data is being :25.576,14.197472451109034\n",
            "--------------------\n"
          ]
        },
        {
          "output_type": "stream",
          "name": "stderr",
          "text": [
            "<ipython-input-10-73188c3a812e>:7: SettingWithCopyWarning: \n",
            "A value is trying to be set on a copy of a slice from a DataFrame.\n",
            "Try using .loc[row_indexer,col_indexer] = value instead\n",
            "\n",
            "See the caveats in the documentation: https://pandas.pydata.org/pandas-docs/stable/user_guide/indexing.html#returning-a-view-versus-a-copy\n",
            "  train_data[var] = [(x - mean_var)/std_var for x in train_data[var]]\n",
            "<ipython-input-10-73188c3a812e>:8: SettingWithCopyWarning: \n",
            "A value is trying to be set on a copy of a slice from a DataFrame.\n",
            "Try using .loc[row_indexer,col_indexer] = value instead\n",
            "\n",
            "See the caveats in the documentation: https://pandas.pydata.org/pandas-docs/stable/user_guide/indexing.html#returning-a-view-versus-a-copy\n",
            "  test_data[var] = [(x - mean_var)/std_var for x in test_data[var]]\n"
          ]
        }
      ]
    },
    {
      "cell_type": "code",
      "source": [
        "train_data.head(5)"
      ],
      "metadata": {
        "colab": {
          "base_uri": "https://localhost:8080/",
          "height": 206
        },
        "id": "i9rWorS9gEb5",
        "outputId": "c8d4685b-40a9-4f43-d5c0-fbc251516f59"
      },
      "execution_count": 11,
      "outputs": [
        {
          "output_type": "execute_result",
          "data": {
            "text/plain": [
              "         size  bedrooms  bathrooms       age  Tehran  Esfehan  Yazd  Shiraz  \\\n",
              "135 -0.042180  1.371690   0.048468 -0.463181       0        1     0       0   \n",
              "460  0.529053 -0.424891   0.048468  1.649871       0        0     1       0   \n",
              "763 -0.156426  1.371690   0.048468  0.311605       0        1     0       0   \n",
              "85   1.351628  0.473399   0.048468 -0.181441       0        0     0       0   \n",
              "343 -0.567714  0.473399   1.291227  1.438566       0        0     0       0   \n",
              "\n",
              "     Tabriz         price    place  \n",
              "135       0  8.506026e+05  Esfehan  \n",
              "460       0  9.493913e+05     Yazd  \n",
              "763       0  8.472795e+05  Esfehan  \n",
              "85        1  1.080046e+06   Tabriz  \n",
              "343       1  6.632608e+05   Tabriz  "
            ],
            "text/html": [
              "\n",
              "  <div id=\"df-73da2823-585e-44c4-b11a-b0848a94c068\">\n",
              "    <div class=\"colab-df-container\">\n",
              "      <div>\n",
              "<style scoped>\n",
              "    .dataframe tbody tr th:only-of-type {\n",
              "        vertical-align: middle;\n",
              "    }\n",
              "\n",
              "    .dataframe tbody tr th {\n",
              "        vertical-align: top;\n",
              "    }\n",
              "\n",
              "    .dataframe thead th {\n",
              "        text-align: right;\n",
              "    }\n",
              "</style>\n",
              "<table border=\"1\" class=\"dataframe\">\n",
              "  <thead>\n",
              "    <tr style=\"text-align: right;\">\n",
              "      <th></th>\n",
              "      <th>size</th>\n",
              "      <th>bedrooms</th>\n",
              "      <th>bathrooms</th>\n",
              "      <th>age</th>\n",
              "      <th>Tehran</th>\n",
              "      <th>Esfehan</th>\n",
              "      <th>Yazd</th>\n",
              "      <th>Shiraz</th>\n",
              "      <th>Tabriz</th>\n",
              "      <th>price</th>\n",
              "      <th>place</th>\n",
              "    </tr>\n",
              "  </thead>\n",
              "  <tbody>\n",
              "    <tr>\n",
              "      <th>135</th>\n",
              "      <td>-0.042180</td>\n",
              "      <td>1.371690</td>\n",
              "      <td>0.048468</td>\n",
              "      <td>-0.463181</td>\n",
              "      <td>0</td>\n",
              "      <td>1</td>\n",
              "      <td>0</td>\n",
              "      <td>0</td>\n",
              "      <td>0</td>\n",
              "      <td>8.506026e+05</td>\n",
              "      <td>Esfehan</td>\n",
              "    </tr>\n",
              "    <tr>\n",
              "      <th>460</th>\n",
              "      <td>0.529053</td>\n",
              "      <td>-0.424891</td>\n",
              "      <td>0.048468</td>\n",
              "      <td>1.649871</td>\n",
              "      <td>0</td>\n",
              "      <td>0</td>\n",
              "      <td>1</td>\n",
              "      <td>0</td>\n",
              "      <td>0</td>\n",
              "      <td>9.493913e+05</td>\n",
              "      <td>Yazd</td>\n",
              "    </tr>\n",
              "    <tr>\n",
              "      <th>763</th>\n",
              "      <td>-0.156426</td>\n",
              "      <td>1.371690</td>\n",
              "      <td>0.048468</td>\n",
              "      <td>0.311605</td>\n",
              "      <td>0</td>\n",
              "      <td>1</td>\n",
              "      <td>0</td>\n",
              "      <td>0</td>\n",
              "      <td>0</td>\n",
              "      <td>8.472795e+05</td>\n",
              "      <td>Esfehan</td>\n",
              "    </tr>\n",
              "    <tr>\n",
              "      <th>85</th>\n",
              "      <td>1.351628</td>\n",
              "      <td>0.473399</td>\n",
              "      <td>0.048468</td>\n",
              "      <td>-0.181441</td>\n",
              "      <td>0</td>\n",
              "      <td>0</td>\n",
              "      <td>0</td>\n",
              "      <td>0</td>\n",
              "      <td>1</td>\n",
              "      <td>1.080046e+06</td>\n",
              "      <td>Tabriz</td>\n",
              "    </tr>\n",
              "    <tr>\n",
              "      <th>343</th>\n",
              "      <td>-0.567714</td>\n",
              "      <td>0.473399</td>\n",
              "      <td>1.291227</td>\n",
              "      <td>1.438566</td>\n",
              "      <td>0</td>\n",
              "      <td>0</td>\n",
              "      <td>0</td>\n",
              "      <td>0</td>\n",
              "      <td>1</td>\n",
              "      <td>6.632608e+05</td>\n",
              "      <td>Tabriz</td>\n",
              "    </tr>\n",
              "  </tbody>\n",
              "</table>\n",
              "</div>\n",
              "      <button class=\"colab-df-convert\" onclick=\"convertToInteractive('df-73da2823-585e-44c4-b11a-b0848a94c068')\"\n",
              "              title=\"Convert this dataframe to an interactive table.\"\n",
              "              style=\"display:none;\">\n",
              "        \n",
              "  <svg xmlns=\"http://www.w3.org/2000/svg\" height=\"24px\"viewBox=\"0 0 24 24\"\n",
              "       width=\"24px\">\n",
              "    <path d=\"M0 0h24v24H0V0z\" fill=\"none\"/>\n",
              "    <path d=\"M18.56 5.44l.94 2.06.94-2.06 2.06-.94-2.06-.94-.94-2.06-.94 2.06-2.06.94zm-11 1L8.5 8.5l.94-2.06 2.06-.94-2.06-.94L8.5 2.5l-.94 2.06-2.06.94zm10 10l.94 2.06.94-2.06 2.06-.94-2.06-.94-.94-2.06-.94 2.06-2.06.94z\"/><path d=\"M17.41 7.96l-1.37-1.37c-.4-.4-.92-.59-1.43-.59-.52 0-1.04.2-1.43.59L10.3 9.45l-7.72 7.72c-.78.78-.78 2.05 0 2.83L4 21.41c.39.39.9.59 1.41.59.51 0 1.02-.2 1.41-.59l7.78-7.78 2.81-2.81c.8-.78.8-2.07 0-2.86zM5.41 20L4 18.59l7.72-7.72 1.47 1.35L5.41 20z\"/>\n",
              "  </svg>\n",
              "      </button>\n",
              "      \n",
              "  <style>\n",
              "    .colab-df-container {\n",
              "      display:flex;\n",
              "      flex-wrap:wrap;\n",
              "      gap: 12px;\n",
              "    }\n",
              "\n",
              "    .colab-df-convert {\n",
              "      background-color: #E8F0FE;\n",
              "      border: none;\n",
              "      border-radius: 50%;\n",
              "      cursor: pointer;\n",
              "      display: none;\n",
              "      fill: #1967D2;\n",
              "      height: 32px;\n",
              "      padding: 0 0 0 0;\n",
              "      width: 32px;\n",
              "    }\n",
              "\n",
              "    .colab-df-convert:hover {\n",
              "      background-color: #E2EBFA;\n",
              "      box-shadow: 0px 1px 2px rgba(60, 64, 67, 0.3), 0px 1px 3px 1px rgba(60, 64, 67, 0.15);\n",
              "      fill: #174EA6;\n",
              "    }\n",
              "\n",
              "    [theme=dark] .colab-df-convert {\n",
              "      background-color: #3B4455;\n",
              "      fill: #D2E3FC;\n",
              "    }\n",
              "\n",
              "    [theme=dark] .colab-df-convert:hover {\n",
              "      background-color: #434B5C;\n",
              "      box-shadow: 0px 1px 3px 1px rgba(0, 0, 0, 0.15);\n",
              "      filter: drop-shadow(0px 1px 2px rgba(0, 0, 0, 0.3));\n",
              "      fill: #FFFFFF;\n",
              "    }\n",
              "  </style>\n",
              "\n",
              "      <script>\n",
              "        const buttonEl =\n",
              "          document.querySelector('#df-73da2823-585e-44c4-b11a-b0848a94c068 button.colab-df-convert');\n",
              "        buttonEl.style.display =\n",
              "          google.colab.kernel.accessAllowed ? 'block' : 'none';\n",
              "\n",
              "        async function convertToInteractive(key) {\n",
              "          const element = document.querySelector('#df-73da2823-585e-44c4-b11a-b0848a94c068');\n",
              "          const dataTable =\n",
              "            await google.colab.kernel.invokeFunction('convertToInteractive',\n",
              "                                                     [key], {});\n",
              "          if (!dataTable) return;\n",
              "\n",
              "          const docLinkHtml = 'Like what you see? Visit the ' +\n",
              "            '<a target=\"_blank\" href=https://colab.research.google.com/notebooks/data_table.ipynb>data table notebook</a>'\n",
              "            + ' to learn more about interactive tables.';\n",
              "          element.innerHTML = '';\n",
              "          dataTable['output_type'] = 'display_data';\n",
              "          await google.colab.output.renderOutput(dataTable, element);\n",
              "          const docLink = document.createElement('div');\n",
              "          docLink.innerHTML = docLinkHtml;\n",
              "          element.appendChild(docLink);\n",
              "        }\n",
              "      </script>\n",
              "    </div>\n",
              "  </div>\n",
              "  "
            ]
          },
          "metadata": {},
          "execution_count": 11
        }
      ]
    },
    {
      "cell_type": "markdown",
      "source": [
        "#MSE"
      ],
      "metadata": {
        "id": "IV09p9ZShH1V"
      }
    },
    {
      "cell_type": "code",
      "source": [
        "def mse(y_true,y_pred):\n",
        "  return sum(np.power(([x-y for (x,y) in zip(y_true,y_pred)]),2))/len(y_true) , 2*(sum(([x-y for (x,y) in zip(y_true,y_pred)]))/len(y_true) )"
      ],
      "metadata": {
        "id": "s5lb9stChFl6"
      },
      "execution_count": 12,
      "outputs": []
    },
    {
      "cell_type": "code",
      "source": [
        "mse([1,2,3],[0,0,0])"
      ],
      "metadata": {
        "colab": {
          "base_uri": "https://localhost:8080/"
        },
        "id": "X_I0HDAmhoJ-",
        "outputId": "6b8e3f2f-dcd1-4b17-f1a2-8d5728ae12c3"
      },
      "execution_count": 13,
      "outputs": [
        {
          "output_type": "execute_result",
          "data": {
            "text/plain": [
              "(4.666666666666667, 4.0)"
            ]
          },
          "metadata": {},
          "execution_count": 13
        }
      ]
    },
    {
      "cell_type": "markdown",
      "source": [
        "#SGD func"
      ],
      "metadata": {
        "id": "ODhTaa0LitWj"
      }
    },
    {
      "cell_type": "code",
      "source": [
        "def SGD(X,y,w,b,learning_rate):\n",
        "  y_pred = np.matmul(X,w) +b\n",
        "  loss,grad = mse(y,y_pred)\n",
        "  b_gradient = grad\n",
        "  w_gradient = 2 * np.sum(X.T @ (y - y_pred)) / len(y)\n",
        "  b = b + (learning_rate * b_gradient)\n",
        "  w = w + (learning_rate * w_gradient)\n",
        "  return w,b,loss"
      ],
      "metadata": {
        "id": "pK4HZIIAic2T"
      },
      "execution_count": 260,
      "outputs": []
    },
    {
      "cell_type": "code",
      "source": [
        "X = train_data[[\"size\",\"bedrooms\",\"bathrooms\",\"age\",\"Tehran\",\"Esfehan\",\"Yazd\",\"Shiraz\",\"Tabriz\"]].to_numpy()\n",
        "y = np.array(train_data['price']).reshape((-1,1))\n",
        "b = 1\n",
        "w = np.random.randn(X.shape[1],1)"
      ],
      "metadata": {
        "id": "Rrl2eSGtDEwz"
      },
      "execution_count": 261,
      "outputs": []
    },
    {
      "cell_type": "code",
      "source": [
        "SGD(X,y,w,b,0.01)"
      ],
      "metadata": {
        "colab": {
          "base_uri": "https://localhost:8080/"
        },
        "id": "HCIKGCBi5N5Q",
        "outputId": "3d574de7-489f-4a11-c605-ab8cced3ac6e"
      },
      "execution_count": 262,
      "outputs": [
        {
          "output_type": "execute_result",
          "data": {
            "text/plain": [
              "(array([[21814.16420387],\n",
              "        [21813.36343505],\n",
              "        [21813.44559319],\n",
              "        [21814.09396357],\n",
              "        [21813.26803108],\n",
              "        [21813.15613768],\n",
              "        [21813.09298085],\n",
              "        [21812.5381208 ],\n",
              "        [21813.54130905]]),\n",
              " array([16873.13790501]),\n",
              " array([7.62075402e+11]))"
            ]
          },
          "metadata": {},
          "execution_count": 262
        }
      ]
    },
    {
      "cell_type": "markdown",
      "source": [
        "#GradientDescentLinearRegression"
      ],
      "metadata": {
        "id": "W5RibvfSxlxQ"
      }
    },
    {
      "cell_type": "code",
      "source": [
        "class GradientDescentLinearRegression:\n",
        "    def __init__(self, learning_rate=0.001, epoch=1000,batch_size =64):\n",
        "        self.learning_rate, self.epoch, self.batch= learning_rate, epoch, batch_size\n",
        "\n",
        "    def fit(self, X, y):\n",
        "        self.b = 1\n",
        "        self.w = np.random.randn(X.shape[1],1)\n",
        "        n = X.shape[0]\n",
        "        losses = []\n",
        "        for e in range(self.epoch):\n",
        "          batch_ind = self.batched(n)\n",
        "          total_loss = 0\n",
        "          for b in batch_ind:\n",
        "            X_t,y_t = X.iloc[b].to_numpy(), np.array(pd.DataFrame(y).iloc[b]).reshape((-1,1))\n",
        "            self.w, self.b,loss = SGD(X_t, y_t, self.w, self.b, self.learning_rate)\n",
        "            total_loss+=loss\n",
        "          losses.append(total_loss)\n",
        "\n",
        "        return losses\n",
        "\n",
        "    def predict(self, X):\n",
        "        X.to_numpy()\n",
        "        return X@self.w + self.b\n",
        "\n",
        "    def batched(self,leng):\n",
        "      random_list = np.arange(leng)\n",
        "      np.random.shuffle(random_list)\n",
        "      batches_ind = []\n",
        "      for ind in range(0,self.batch):\n",
        "        beg_ind = int(ind*leng/self.batch)\n",
        "        end_ind = int((ind+1)*leng/self.batch)\n",
        "        batches_ind.append(random_list[beg_ind:end_ind])\n",
        "      return batches_ind"
      ],
      "metadata": {
        "id": "ndJnqVIsxkyo"
      },
      "execution_count": 263,
      "outputs": []
    },
    {
      "cell_type": "code",
      "source": [
        "X = train_data[[\"size\",\"bedrooms\",\"bathrooms\",\"age\",\"Tehran\",\"Esfehan\",\"Yazd\",\"Shiraz\",\"Tabriz\"]]\n",
        "y = train_data['price']\n",
        "GDLR = GradientDescentLinearRegression(0.01,100,4)\n",
        "losses = GDLR.fit(X,y)"
      ],
      "metadata": {
        "id": "WTu9pMkU1cDn"
      },
      "execution_count": 264,
      "outputs": []
    },
    {
      "cell_type": "code",
      "source": [
        "X_test = test_data[[\"size\",\"bedrooms\",\"bathrooms\",\"age\",\"Tehran\",\"Esfehan\",\"Yazd\",\"Shiraz\",\"Tabriz\"]]\n",
        "y_test = test_data['price']\n",
        "test_pred = GDLR.predict(X_test)\n",
        "mse(y_test,test_pred)"
      ],
      "metadata": {
        "id": "UuIVIEmeWEp-"
      },
      "execution_count": 265,
      "outputs": []
    },
    {
      "cell_type": "code",
      "source": [
        "X = train_data[[\"size\",\"bedrooms\",\"bathrooms\",\"age\",\"Tehran\",\"Esfehan\",\"Yazd\",\"Shiraz\",\"Tabriz\"]]\n",
        "y = train_data['price']\n",
        "train_pred = GDLR.predict(X)\n",
        "mse(y,train_pred)"
      ],
      "metadata": {
        "colab": {
          "base_uri": "https://localhost:8080/"
        },
        "id": "cZdbgf6VYR76",
        "outputId": "4839e479-a101-48d9-a316-1f5369014f8b"
      },
      "execution_count": 269,
      "outputs": [
        {
          "output_type": "execute_result",
          "data": {
            "text/plain": [
              "(851205582.3761928, 2001.4178296470586)"
            ]
          },
          "metadata": {},
          "execution_count": 269
        }
      ]
    },
    {
      "cell_type": "code",
      "source": [
        "train_label = \"train_loss\"\n",
        "X = np.arange(len(losses))\n",
        "y1 = losses\n",
        "plt.plot(X,y1,'bo',linewidth =1 , markersize = 5)\n",
        "plt.title(\"loss per epoch(hidden_layer = 0)\")\n",
        "plt.xlabel(\"Epoch\")\n",
        "plt.ylabel(\"loss\")\n",
        "plt.show()"
      ],
      "metadata": {
        "colab": {
          "base_uri": "https://localhost:8080/",
          "height": 472
        },
        "id": "QA0UYE2OVhVY",
        "outputId": "8683106d-db01-479f-d564-61d50cfbd7f7"
      },
      "execution_count": 267,
      "outputs": [
        {
          "output_type": "display_data",
          "data": {
            "text/plain": [
              "<Figure size 640x480 with 1 Axes>"
            ],
            "image/png": "[encoded data removed]"
          },
          "metadata": {}
        }
      ]
    },
    {
      "cell_type": "code",
      "source": [],
      "metadata": {
        "id": "J1_61-OBVwnG"
      },
      "execution_count": null,
      "outputs": []
    }
  ]
}