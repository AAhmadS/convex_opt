{
  "nbformat": 4,
  "nbformat_minor": 0,
  "metadata": {
    "colab": {
      "provenance": [],
      "authorship_tag": "ABX9TyPD9OI6ZPd8xCSN7pJpgryH",
      "include_colab_link": true
    },
    "kernelspec": {
      "name": "python3",
      "display_name": "Python 3"
    },
    "language_info": {
      "name": "python"
    }
  },
  "cells": [
    {
      "cell_type": "markdown",
      "metadata": {
        "id": "view-in-github",
        "colab_type": "text"
      },
      "source": [
        "<a href=\"https://colab.research.google.com/github/AAhmadS/convex_opt/blob/main/convexOpt.ipynb\" target=\"_parent\"><img src=\"https://colab.research.google.com/assets/colab-badge.svg\" alt=\"Open In Colab\"/></a>"
      ]
    },
    {
      "cell_type": "code",
      "execution_count": 1,
      "metadata": {
        "id": "FwvvY9BuQNbh"
      },
      "outputs": [],
      "source": [
        "import plotly\n",
        "import matplotlib\n",
        "import numpy as np\n",
        "import scipy\n",
        "import random\n",
        "import pandas as pd\n",
        "\n",
        "from numpy import pad\n",
        "import matplotlib.pyplot as plt\n",
        "plt.switch_backend('agg')\n",
        "%matplotlib inline\n",
        "import matplotlib.ticker as ticker"
      ]
    },
    {
      "cell_type": "code",
      "source": [
        "from google.colab import drive\n",
        "drive.mount('/content/drive')"
      ],
      "metadata": {
        "colab": {
          "base_uri": "https://localhost:8080/"
        },
        "id": "pyeM1LopS1Yj",
        "outputId": "debe80b2-84c8-4826-82d5-a2b6b90ae997"
      },
      "execution_count": 2,
      "outputs": [
        {
          "output_type": "stream",
          "name": "stdout",
          "text": [
            "Mounted at /content/drive\n"
          ]
        }
      ]
    },
    {
      "cell_type": "code",
      "source": [
        "%mkdir /content/drive/MyDrive/cOpt\n",
        "%cd /content/drive/MyDrive/cOpt"
      ],
      "metadata": {
        "colab": {
          "base_uri": "https://localhost:8080/"
        },
        "id": "aYnktbJJTOP7",
        "outputId": "63513886-24e1-4791-a56c-eba00cc99edc"
      },
      "execution_count": 3,
      "outputs": [
        {
          "output_type": "stream",
          "name": "stdout",
          "text": [
            "mkdir: cannot create directory ‘/content/drive/MyDrive/cOpt’: File exists\n",
            "/content/drive/MyDrive/cOpt\n"
          ]
        }
      ]
    },
    {
      "cell_type": "markdown",
      "source": [
        "#Load data"
      ],
      "metadata": {
        "id": "IzCFIeX0T58l"
      }
    },
    {
      "cell_type": "code",
      "source": [
        "data = pd.read_csv('house_data.csv')"
      ],
      "metadata": {
        "id": "pRP9lskmTW0m"
      },
      "execution_count": 4,
      "outputs": []
    },
    {
      "cell_type": "code",
      "source": [
        "data.head(5)"
      ],
      "metadata": {
        "colab": {
          "base_uri": "https://localhost:8080/",
          "height": 206
        },
        "id": "ilGFM_q1Tp6p",
        "outputId": "13307596-cfbf-4b65-d0ee-02e5002b6b9e"
      },
      "execution_count": 5,
      "outputs": [
        {
          "output_type": "execute_result",
          "data": {
            "text/plain": [
              "   size  bedrooms  bathrooms  age  Tehran  Esfehan  Yazd  Shiraz  Tabriz  \\\n",
              "0   152         1          3    3       0        0     0       0       1   \n",
              "1   142         1          2   23       0        0     1       0       0   \n",
              "2    64         1          2   26       0        0     0       0       1   \n",
              "3   156         2          3   37       0        0     0       0       1   \n",
              "4   121         4          2   24       0        0     1       0       0   \n",
              "\n",
              "         price  \n",
              "0  981653.9936  \n",
              "1  870284.3499  \n",
              "2  515868.5989  \n",
              "3  979655.8731  \n",
              "4  859453.6265  "
            ],
            "text/html": [
              "\n",
              "  <div id=\"df-1f11fd94-fb85-4851-adf6-8812e531eeb5\">\n",
              "    <div class=\"colab-df-container\">\n",
              "      <div>\n",
              "<style scoped>\n",
              "    .dataframe tbody tr th:only-of-type {\n",
              "        vertical-align: middle;\n",
              "    }\n",
              "\n",
              "    .dataframe tbody tr th {\n",
              "        vertical-align: top;\n",
              "    }\n",
              "\n",
              "    .dataframe thead th {\n",
              "        text-align: right;\n",
              "    }\n",
              "</style>\n",
              "<table border=\"1\" class=\"dataframe\">\n",
              "  <thead>\n",
              "    <tr style=\"text-align: right;\">\n",
              "      <th></th>\n",
              "      <th>size</th>\n",
              "      <th>bedrooms</th>\n",
              "      <th>bathrooms</th>\n",
              "      <th>age</th>\n",
              "      <th>Tehran</th>\n",
              "      <th>Esfehan</th>\n",
              "      <th>Yazd</th>\n",
              "      <th>Shiraz</th>\n",
              "      <th>Tabriz</th>\n",
              "      <th>price</th>\n",
              "    </tr>\n",
              "  </thead>\n",
              "  <tbody>\n",
              "    <tr>\n",
              "      <th>0</th>\n",
              "      <td>152</td>\n",
              "      <td>1</td>\n",
              "      <td>3</td>\n",
              "      <td>3</td>\n",
              "      <td>0</td>\n",
              "      <td>0</td>\n",
              "      <td>0</td>\n",
              "      <td>0</td>\n",
              "      <td>1</td>\n",
              "      <td>981653.9936</td>\n",
              "    </tr>\n",
              "    <tr>\n",
              "      <th>1</th>\n",
              "      <td>142</td>\n",
              "      <td>1</td>\n",
              "      <td>2</td>\n",
              "      <td>23</td>\n",
              "      <td>0</td>\n",
              "      <td>0</td>\n",
              "      <td>1</td>\n",
              "      <td>0</td>\n",
              "      <td>0</td>\n",
              "      <td>870284.3499</td>\n",
              "    </tr>\n",
              "    <tr>\n",
              "      <th>2</th>\n",
              "      <td>64</td>\n",
              "      <td>1</td>\n",
              "      <td>2</td>\n",
              "      <td>26</td>\n",
              "      <td>0</td>\n",
              "      <td>0</td>\n",
              "      <td>0</td>\n",
              "      <td>0</td>\n",
              "      <td>1</td>\n",
              "      <td>515868.5989</td>\n",
              "    </tr>\n",
              "    <tr>\n",
              "      <th>3</th>\n",
              "      <td>156</td>\n",
              "      <td>2</td>\n",
              "      <td>3</td>\n",
              "      <td>37</td>\n",
              "      <td>0</td>\n",
              "      <td>0</td>\n",
              "      <td>0</td>\n",
              "      <td>0</td>\n",
              "      <td>1</td>\n",
              "      <td>979655.8731</td>\n",
              "    </tr>\n",
              "    <tr>\n",
              "      <th>4</th>\n",
              "      <td>121</td>\n",
              "      <td>4</td>\n",
              "      <td>2</td>\n",
              "      <td>24</td>\n",
              "      <td>0</td>\n",
              "      <td>0</td>\n",
              "      <td>1</td>\n",
              "      <td>0</td>\n",
              "      <td>0</td>\n",
              "      <td>859453.6265</td>\n",
              "    </tr>\n",
              "  </tbody>\n",
              "</table>\n",
              "</div>\n",
              "      <button class=\"colab-df-convert\" onclick=\"convertToInteractive('df-1f11fd94-fb85-4851-adf6-8812e531eeb5')\"\n",
              "              title=\"Convert this dataframe to an interactive table.\"\n",
              "              style=\"display:none;\">\n",
              "        \n",
              "  <svg xmlns=\"http://www.w3.org/2000/svg\" height=\"24px\"viewBox=\"0 0 24 24\"\n",
              "       width=\"24px\">\n",
              "    <path d=\"M0 0h24v24H0V0z\" fill=\"none\"/>\n",
              "    <path d=\"M18.56 5.44l.94 2.06.94-2.06 2.06-.94-2.06-.94-.94-2.06-.94 2.06-2.06.94zm-11 1L8.5 8.5l.94-2.06 2.06-.94-2.06-.94L8.5 2.5l-.94 2.06-2.06.94zm10 10l.94 2.06.94-2.06 2.06-.94-2.06-.94-.94-2.06-.94 2.06-2.06.94z\"/><path d=\"M17.41 7.96l-1.37-1.37c-.4-.4-.92-.59-1.43-.59-.52 0-1.04.2-1.43.59L10.3 9.45l-7.72 7.72c-.78.78-.78 2.05 0 2.83L4 21.41c.39.39.9.59 1.41.59.51 0 1.02-.2 1.41-.59l7.78-7.78 2.81-2.81c.8-.78.8-2.07 0-2.86zM5.41 20L4 18.59l7.72-7.72 1.47 1.35L5.41 20z\"/>\n",
              "  </svg>\n",
              "      </button>\n",
              "      \n",
              "  <style>\n",
              "    .colab-df-container {\n",
              "      display:flex;\n",
              "      flex-wrap:wrap;\n",
              "      gap: 12px;\n",
              "    }\n",
              "\n",
              "    .colab-df-convert {\n",
              "      background-color: #E8F0FE;\n",
              "      border: none;\n",
              "      border-radius: 50%;\n",
              "      cursor: pointer;\n",
              "      display: none;\n",
              "      fill: #1967D2;\n",
              "      height: 32px;\n",
              "      padding: 0 0 0 0;\n",
              "      width: 32px;\n",
              "    }\n",
              "\n",
              "    .colab-df-convert:hover {\n",
              "      background-color: #E2EBFA;\n",
              "      box-shadow: 0px 1px 2px rgba(60, 64, 67, 0.3), 0px 1px 3px 1px rgba(60, 64, 67, 0.15);\n",
              "      fill: #174EA6;\n",
              "    }\n",
              "\n",
              "    [theme=dark] .colab-df-convert {\n",
              "      background-color: #3B4455;\n",
              "      fill: #D2E3FC;\n",
              "    }\n",
              "\n",
              "    [theme=dark] .colab-df-convert:hover {\n",
              "      background-color: #434B5C;\n",
              "      box-shadow: 0px 1px 3px 1px rgba(0, 0, 0, 0.15);\n",
              "      filter: drop-shadow(0px 1px 2px rgba(0, 0, 0, 0.3));\n",
              "      fill: #FFFFFF;\n",
              "    }\n",
              "  </style>\n",
              "\n",
              "      <script>\n",
              "        const buttonEl =\n",
              "          document.querySelector('#df-1f11fd94-fb85-4851-adf6-8812e531eeb5 button.colab-df-convert');\n",
              "        buttonEl.style.display =\n",
              "          google.colab.kernel.accessAllowed ? 'block' : 'none';\n",
              "\n",
              "        async function convertToInteractive(key) {\n",
              "          const element = document.querySelector('#df-1f11fd94-fb85-4851-adf6-8812e531eeb5');\n",
              "          const dataTable =\n",
              "            await google.colab.kernel.invokeFunction('convertToInteractive',\n",
              "                                                     [key], {});\n",
              "          if (!dataTable) return;\n",
              "\n",
              "          const docLinkHtml = 'Like what you see? Visit the ' +\n",
              "            '<a target=\"_blank\" href=https://colab.research.google.com/notebooks/data_table.ipynb>data table notebook</a>'\n",
              "            + ' to learn more about interactive tables.';\n",
              "          element.innerHTML = '';\n",
              "          dataTable['output_type'] = 'display_data';\n",
              "          await google.colab.output.renderOutput(dataTable, element);\n",
              "          const docLink = document.createElement('div');\n",
              "          docLink.innerHTML = docLinkHtml;\n",
              "          element.appendChild(docLink);\n",
              "        }\n",
              "      </script>\n",
              "    </div>\n",
              "  </div>\n",
              "  "
            ]
          },
          "metadata": {},
          "execution_count": 5
        }
      ]
    },
    {
      "cell_type": "markdown",
      "source": [
        "we would add the \"place\" column to our data. this action is done in order to ease the process of ploting price data on city variable"
      ],
      "metadata": {
        "id": "wUcWp5OsFc0f"
      }
    },
    {
      "cell_type": "code",
      "source": [
        "data[\"place\"] = ['Tehran' for x in data['Tehran']]\n",
        "data[\"place\"][data['Esfehan'] == 1] = 'Esfehan'\n",
        "data[\"place\"][data['Yazd'] == 1] = 'Yazd'\n",
        "data[\"place\"][data['Shiraz'] == 1] = 'Shiraz'\n",
        "data[\"place\"][data['Tabriz'] == 1] = 'Tabriz'"
      ],
      "metadata": {
        "colab": {
          "base_uri": "https://localhost:8080/"
        },
        "id": "PjXs_5tBUsD9",
        "outputId": "191dec57-b92b-460a-bc55-ccf4bb182f19"
      },
      "execution_count": 6,
      "outputs": [
        {
          "output_type": "stream",
          "name": "stderr",
          "text": [
            "<ipython-input-6-a03fe5c3958c>:2: SettingWithCopyWarning: \n",
            "A value is trying to be set on a copy of a slice from a DataFrame\n",
            "\n",
            "See the caveats in the documentation: https://pandas.pydata.org/pandas-docs/stable/user_guide/indexing.html#returning-a-view-versus-a-copy\n",
            "  data[\"place\"][data['Esfehan'] == 1] = 'Esfehan'\n",
            "<ipython-input-6-a03fe5c3958c>:3: SettingWithCopyWarning: \n",
            "A value is trying to be set on a copy of a slice from a DataFrame\n",
            "\n",
            "See the caveats in the documentation: https://pandas.pydata.org/pandas-docs/stable/user_guide/indexing.html#returning-a-view-versus-a-copy\n",
            "  data[\"place\"][data['Yazd'] == 1] = 'Yazd'\n",
            "<ipython-input-6-a03fe5c3958c>:4: SettingWithCopyWarning: \n",
            "A value is trying to be set on a copy of a slice from a DataFrame\n",
            "\n",
            "See the caveats in the documentation: https://pandas.pydata.org/pandas-docs/stable/user_guide/indexing.html#returning-a-view-versus-a-copy\n",
            "  data[\"place\"][data['Shiraz'] == 1] = 'Shiraz'\n",
            "<ipython-input-6-a03fe5c3958c>:5: SettingWithCopyWarning: \n",
            "A value is trying to be set on a copy of a slice from a DataFrame\n",
            "\n",
            "See the caveats in the documentation: https://pandas.pydata.org/pandas-docs/stable/user_guide/indexing.html#returning-a-view-versus-a-copy\n",
            "  data[\"place\"][data['Tabriz'] == 1] = 'Tabriz'\n"
          ]
        }
      ]
    },
    {
      "cell_type": "code",
      "source": [
        "data.head(10)"
      ],
      "metadata": {
        "colab": {
          "base_uri": "https://localhost:8080/",
          "height": 363
        },
        "id": "vDS7Uef1VKn5",
        "outputId": "7177dcb6-0f3b-4fc4-d51b-4130daba9753"
      },
      "execution_count": 7,
      "outputs": [
        {
          "output_type": "execute_result",
          "data": {
            "text/plain": [
              "   size  bedrooms  bathrooms  age  Tehran  Esfehan  Yazd  Shiraz  Tabriz  \\\n",
              "0   152         1          3    3       0        0     0       0       1   \n",
              "1   142         1          2   23       0        0     1       0       0   \n",
              "2    64         1          2   26       0        0     0       0       1   \n",
              "3   156         2          3   37       0        0     0       0       1   \n",
              "4   121         4          2   24       0        0     1       0       0   \n",
              "5    70         4          3   49       0        0     0       1       0   \n",
              "6   152         3          3   19       0        1     0       0       0   \n",
              "7   171         2          2   25       0        0     1       0       0   \n",
              "8   124         1          2   21       1        0     0       0       0   \n",
              "9   137         2          1   12       0        0     0       1       0   \n",
              "\n",
              "         price    place  \n",
              "0  981653.9936   Tabriz  \n",
              "1  870284.3499     Yazd  \n",
              "2  515868.5989   Tabriz  \n",
              "3  979655.8731   Tabriz  \n",
              "4  859453.6265     Yazd  \n",
              "5  570964.5346   Shiraz  \n",
              "6  931339.0588  Esfehan  \n",
              "7  957482.5839     Yazd  \n",
              "8  858480.4773   Tehran  \n",
              "9  876345.6038   Shiraz  "
            ],
            "text/html": [
              "\n",
              "  <div id=\"df-801dc86f-fe9e-455d-93c2-8786df469f4f\">\n",
              "    <div class=\"colab-df-container\">\n",
              "      <div>\n",
              "<style scoped>\n",
              "    .dataframe tbody tr th:only-of-type {\n",
              "        vertical-align: middle;\n",
              "    }\n",
              "\n",
              "    .dataframe tbody tr th {\n",
              "        vertical-align: top;\n",
              "    }\n",
              "\n",
              "    .dataframe thead th {\n",
              "        text-align: right;\n",
              "    }\n",
              "</style>\n",
              "<table border=\"1\" class=\"dataframe\">\n",
              "  <thead>\n",
              "    <tr style=\"text-align: right;\">\n",
              "      <th></th>\n",
              "      <th>size</th>\n",
              "      <th>bedrooms</th>\n",
              "      <th>bathrooms</th>\n",
              "      <th>age</th>\n",
              "      <th>Tehran</th>\n",
              "      <th>Esfehan</th>\n",
              "      <th>Yazd</th>\n",
              "      <th>Shiraz</th>\n",
              "      <th>Tabriz</th>\n",
              "      <th>price</th>\n",
              "      <th>place</th>\n",
              "    </tr>\n",
              "  </thead>\n",
              "  <tbody>\n",
              "    <tr>\n",
              "      <th>0</th>\n",
              "      <td>152</td>\n",
              "      <td>1</td>\n",
              "      <td>3</td>\n",
              "      <td>3</td>\n",
              "      <td>0</td>\n",
              "      <td>0</td>\n",
              "      <td>0</td>\n",
              "      <td>0</td>\n",
              "      <td>1</td>\n",
              "      <td>981653.9936</td>\n",
              "      <td>Tabriz</td>\n",
              "    </tr>\n",
              "    <tr>\n",
              "      <th>1</th>\n",
              "      <td>142</td>\n",
              "      <td>1</td>\n",
              "      <td>2</td>\n",
              "      <td>23</td>\n",
              "      <td>0</td>\n",
              "      <td>0</td>\n",
              "      <td>1</td>\n",
              "      <td>0</td>\n",
              "      <td>0</td>\n",
              "      <td>870284.3499</td>\n",
              "      <td>Yazd</td>\n",
              "    </tr>\n",
              "    <tr>\n",
              "      <th>2</th>\n",
              "      <td>64</td>\n",
              "      <td>1</td>\n",
              "      <td>2</td>\n",
              "      <td>26</td>\n",
              "      <td>0</td>\n",
              "      <td>0</td>\n",
              "      <td>0</td>\n",
              "      <td>0</td>\n",
              "      <td>1</td>\n",
              "      <td>515868.5989</td>\n",
              "      <td>Tabriz</td>\n",
              "    </tr>\n",
              "    <tr>\n",
              "      <th>3</th>\n",
              "      <td>156</td>\n",
              "      <td>2</td>\n",
              "      <td>3</td>\n",
              "      <td>37</td>\n",
              "      <td>0</td>\n",
              "      <td>0</td>\n",
              "      <td>0</td>\n",
              "      <td>0</td>\n",
              "      <td>1</td>\n",
              "      <td>979655.8731</td>\n",
              "      <td>Tabriz</td>\n",
              "    </tr>\n",
              "    <tr>\n",
              "      <th>4</th>\n",
              "      <td>121</td>\n",
              "      <td>4</td>\n",
              "      <td>2</td>\n",
              "      <td>24</td>\n",
              "      <td>0</td>\n",
              "      <td>0</td>\n",
              "      <td>1</td>\n",
              "      <td>0</td>\n",
              "      <td>0</td>\n",
              "      <td>859453.6265</td>\n",
              "      <td>Yazd</td>\n",
              "    </tr>\n",
              "    <tr>\n",
              "      <th>5</th>\n",
              "      <td>70</td>\n",
              "      <td>4</td>\n",
              "      <td>3</td>\n",
              "      <td>49</td>\n",
              "      <td>0</td>\n",
              "      <td>0</td>\n",
              "      <td>0</td>\n",
              "      <td>1</td>\n",
              "      <td>0</td>\n",
              "      <td>570964.5346</td>\n",
              "      <td>Shiraz</td>\n",
              "    </tr>\n",
              "    <tr>\n",
              "      <th>6</th>\n",
              "      <td>152</td>\n",
              "      <td>3</td>\n",
              "      <td>3</td>\n",
              "      <td>19</td>\n",
              "      <td>0</td>\n",
              "      <td>1</td>\n",
              "      <td>0</td>\n",
              "      <td>0</td>\n",
              "      <td>0</td>\n",
              "      <td>931339.0588</td>\n",
              "      <td>Esfehan</td>\n",
              "    </tr>\n",
              "    <tr>\n",
              "      <th>7</th>\n",
              "      <td>171</td>\n",
              "      <td>2</td>\n",
              "      <td>2</td>\n",
              "      <td>25</td>\n",
              "      <td>0</td>\n",
              "      <td>0</td>\n",
              "      <td>1</td>\n",
              "      <td>0</td>\n",
              "      <td>0</td>\n",
              "      <td>957482.5839</td>\n",
              "      <td>Yazd</td>\n",
              "    </tr>\n",
              "    <tr>\n",
              "      <th>8</th>\n",
              "      <td>124</td>\n",
              "      <td>1</td>\n",
              "      <td>2</td>\n",
              "      <td>21</td>\n",
              "      <td>1</td>\n",
              "      <td>0</td>\n",
              "      <td>0</td>\n",
              "      <td>0</td>\n",
              "      <td>0</td>\n",
              "      <td>858480.4773</td>\n",
              "      <td>Tehran</td>\n",
              "    </tr>\n",
              "    <tr>\n",
              "      <th>9</th>\n",
              "      <td>137</td>\n",
              "      <td>2</td>\n",
              "      <td>1</td>\n",
              "      <td>12</td>\n",
              "      <td>0</td>\n",
              "      <td>0</td>\n",
              "      <td>0</td>\n",
              "      <td>1</td>\n",
              "      <td>0</td>\n",
              "      <td>876345.6038</td>\n",
              "      <td>Shiraz</td>\n",
              "    </tr>\n",
              "  </tbody>\n",
              "</table>\n",
              "</div>\n",
              "      <button class=\"colab-df-convert\" onclick=\"convertToInteractive('df-801dc86f-fe9e-455d-93c2-8786df469f4f')\"\n",
              "              title=\"Convert this dataframe to an interactive table.\"\n",
              "              style=\"display:none;\">\n",
              "        \n",
              "  <svg xmlns=\"http://www.w3.org/2000/svg\" height=\"24px\"viewBox=\"0 0 24 24\"\n",
              "       width=\"24px\">\n",
              "    <path d=\"M0 0h24v24H0V0z\" fill=\"none\"/>\n",
              "    <path d=\"M18.56 5.44l.94 2.06.94-2.06 2.06-.94-2.06-.94-.94-2.06-.94 2.06-2.06.94zm-11 1L8.5 8.5l.94-2.06 2.06-.94-2.06-.94L8.5 2.5l-.94 2.06-2.06.94zm10 10l.94 2.06.94-2.06 2.06-.94-2.06-.94-.94-2.06-.94 2.06-2.06.94z\"/><path d=\"M17.41 7.96l-1.37-1.37c-.4-.4-.92-.59-1.43-.59-.52 0-1.04.2-1.43.59L10.3 9.45l-7.72 7.72c-.78.78-.78 2.05 0 2.83L4 21.41c.39.39.9.59 1.41.59.51 0 1.02-.2 1.41-.59l7.78-7.78 2.81-2.81c.8-.78.8-2.07 0-2.86zM5.41 20L4 18.59l7.72-7.72 1.47 1.35L5.41 20z\"/>\n",
              "  </svg>\n",
              "      </button>\n",
              "      \n",
              "  <style>\n",
              "    .colab-df-container {\n",
              "      display:flex;\n",
              "      flex-wrap:wrap;\n",
              "      gap: 12px;\n",
              "    }\n",
              "\n",
              "    .colab-df-convert {\n",
              "      background-color: #E8F0FE;\n",
              "      border: none;\n",
              "      border-radius: 50%;\n",
              "      cursor: pointer;\n",
              "      display: none;\n",
              "      fill: #1967D2;\n",
              "      height: 32px;\n",
              "      padding: 0 0 0 0;\n",
              "      width: 32px;\n",
              "    }\n",
              "\n",
              "    .colab-df-convert:hover {\n",
              "      background-color: #E2EBFA;\n",
              "      box-shadow: 0px 1px 2px rgba(60, 64, 67, 0.3), 0px 1px 3px 1px rgba(60, 64, 67, 0.15);\n",
              "      fill: #174EA6;\n",
              "    }\n",
              "\n",
              "    [theme=dark] .colab-df-convert {\n",
              "      background-color: #3B4455;\n",
              "      fill: #D2E3FC;\n",
              "    }\n",
              "\n",
              "    [theme=dark] .colab-df-convert:hover {\n",
              "      background-color: #434B5C;\n",
              "      box-shadow: 0px 1px 3px 1px rgba(0, 0, 0, 0.15);\n",
              "      filter: drop-shadow(0px 1px 2px rgba(0, 0, 0, 0.3));\n",
              "      fill: #FFFFFF;\n",
              "    }\n",
              "  </style>\n",
              "\n",
              "      <script>\n",
              "        const buttonEl =\n",
              "          document.querySelector('#df-801dc86f-fe9e-455d-93c2-8786df469f4f button.colab-df-convert');\n",
              "        buttonEl.style.display =\n",
              "          google.colab.kernel.accessAllowed ? 'block' : 'none';\n",
              "\n",
              "        async function convertToInteractive(key) {\n",
              "          const element = document.querySelector('#df-801dc86f-fe9e-455d-93c2-8786df469f4f');\n",
              "          const dataTable =\n",
              "            await google.colab.kernel.invokeFunction('convertToInteractive',\n",
              "                                                     [key], {});\n",
              "          if (!dataTable) return;\n",
              "\n",
              "          const docLinkHtml = 'Like what you see? Visit the ' +\n",
              "            '<a target=\"_blank\" href=https://colab.research.google.com/notebooks/data_table.ipynb>data table notebook</a>'\n",
              "            + ' to learn more about interactive tables.';\n",
              "          element.innerHTML = '';\n",
              "          dataTable['output_type'] = 'display_data';\n",
              "          await google.colab.output.renderOutput(dataTable, element);\n",
              "          const docLink = document.createElement('div');\n",
              "          docLink.innerHTML = docLinkHtml;\n",
              "          element.appendChild(docLink);\n",
              "        }\n",
              "      </script>\n",
              "    </div>\n",
              "  </div>\n",
              "  "
            ]
          },
          "metadata": {},
          "execution_count": 7
        }
      ]
    },
    {
      "cell_type": "markdown",
      "source": [
        "#Plot distribution of price within each categorical data"
      ],
      "metadata": {
        "id": "ID98wgqKT7gz"
      }
    },
    {
      "cell_type": "code",
      "source": [
        "for x in [\"age\",\"bathrooms\",\"place\",\"bedrooms\"] :\n",
        "  data2 = data[[\"price\",x]].groupby(by=x).mean()\n",
        "\n",
        "  courses = list(data2.index)\n",
        "  values = list(data2[\"price\"])\n",
        "\n",
        "  fig = plt.figure(figsize=(10, 5))\n",
        "\n",
        "  # creating the bar plot\n",
        "  plt.bar(courses, values, color='maroon')\n",
        "\n",
        "  plt.xlabel(f\"unique values within {x}\")\n",
        "  plt.ylabel(f\"house price\")\n",
        "  plt.title(f\"mean price value with regards to {x} variable\")\n",
        "  plt.show()"
      ],
      "metadata": {
        "id": "KbyB0sPwUQAi",
        "colab": {
          "base_uri": "https://localhost:8080/",
          "height": 1000
        },
        "outputId": "8012d677-ebdc-4c51-bd13-ee2b3480fedd"
      },
      "execution_count": 8,
      "outputs": [
        {
          "output_type": "display_data",
          "data": {
            "text/plain": [
              "<Figure size 1000x500 with 1 Axes>"
            ],
            "image/png": "[encoded data removed]"
          },
          "metadata": {}
        },
        {
          "output_type": "display_data",
          "data": {
            "text/plain": [
              "<Figure size 1000x500 with 1 Axes>"
            ],
            "image/png": "[encoded data removed]"
          },
          "metadata": {}
        },
        {
          "output_type": "display_data",
          "data": {
            "text/plain": [
              "<Figure size 1000x500 with 1 Axes>"
            ],
            "image/png": "[encoded data removed]"
          },
          "metadata": {}
        },
        {
          "output_type": "display_data",
          "data": {
            "text/plain": [
              "<Figure size 1000x500 with 1 Axes>"
            ],
            "image/png": "[encoded data removed]"
          },
          "metadata": {}
        }
      ]
    },
    {
      "cell_type": "markdown",
      "source": [
        "##Explanation:\n",
        "**place :** house prices do not vary significantly in different cities, though normally, Tabtiz and Yazd tend to be cheaper in the matter<br/>\n",
        "**bathrooms :** number_of_bathrooms has positive correlation with the price tag,think about it as an indicator for the house size<br/>\n",
        "**age :** although the plot shows a nonlinear relation, a slightly decreasing and negative relation can be spotted<br/>\n",
        "**bedrooms :** just like the **bathrooms** variable, this variable indicates the size of the house in a way, which is expected to have positive relation with price tag on the house."
      ],
      "metadata": {
        "id": "eqfnLL5r6CG7"
      }
    },
    {
      "cell_type": "markdown",
      "source": [
        "#Train-Test split"
      ],
      "metadata": {
        "id": "q2WkVdY_d5Gu"
      }
    },
    {
      "cell_type": "markdown",
      "source": [
        "We split the data with 85% rate"
      ],
      "metadata": {
        "id": "KPHzcoo-GiB8"
      }
    },
    {
      "cell_type": "code",
      "source": [
        "train_indices = random.sample(list(np.arange(data.shape[0])),int(0.85*data.shape[0]))\n",
        "test_indices = [ind for ind in list(np.arange(data.shape[0])) if ind not in train_indices]\n",
        "train_data = data.iloc[train_indices]\n",
        "test_data = data.iloc[test_indices]"
      ],
      "metadata": {
        "id": "M-yPk4EoXhYX"
      },
      "execution_count": 9,
      "outputs": []
    },
    {
      "cell_type": "markdown",
      "source": [
        "**variables :**\n",
        ">size<br/>\n",
        ">bedrooms<br/>\n",
        ">bathrooms<br/>\n",
        ">age<br/>\n",
        "\n",
        "are either numerical or non-binary categorical data, so we will use standard scaling on these columns."
      ],
      "metadata": {
        "id": "ORsB21rEGrR3"
      }
    },
    {
      "cell_type": "code",
      "source": [
        "numerical = ['size','bedrooms','bathrooms','age']\n",
        "for var in numerical:\n",
        "  mean_var = data[var].mean()\n",
        "  std_var = np.std(data[var])\n",
        "  print(f\"mean value and std related to {x} variable within data is being :{mean_var}, {std_var}\")\n",
        "  print(\"-\"*20)\n",
        "  train_data[var] = [(x - mean_var)/std_var for x in train_data[var]]\n",
        "  test_data[var] = [(x - mean_var)/std_var for x in test_data[var]]"
      ],
      "metadata": {
        "colab": {
          "base_uri": "https://localhost:8080/"
        },
        "id": "A79UNi_tf6YI",
        "outputId": "898a83f3-36a1-4204-f517-61842809ce89"
      },
      "execution_count": 11,
      "outputs": [
        {
          "output_type": "stream",
          "name": "stdout",
          "text": [
            "mean value and std related to bedrooms variable within data is being :125.846, 43.76501209870734\n",
            "--------------------\n",
            "mean value and std related to bedrooms variable within data is being :2.473, 1.1132254937792254\n",
            "--------------------\n",
            "mean value and std related to bedrooms variable within data is being :1.961, 0.8046607981006655\n",
            "--------------------\n",
            "mean value and std related to bedrooms variable within data is being :25.576, 14.197472451109034\n",
            "--------------------\n"
          ]
        },
        {
          "output_type": "stream",
          "name": "stderr",
          "text": [
            "<ipython-input-11-1602d8b7e0e2>:7: SettingWithCopyWarning: \n",
            "A value is trying to be set on a copy of a slice from a DataFrame.\n",
            "Try using .loc[row_indexer,col_indexer] = value instead\n",
            "\n",
            "See the caveats in the documentation: https://pandas.pydata.org/pandas-docs/stable/user_guide/indexing.html#returning-a-view-versus-a-copy\n",
            "  train_data[var] = [(x - mean_var)/std_var for x in train_data[var]]\n",
            "<ipython-input-11-1602d8b7e0e2>:8: SettingWithCopyWarning: \n",
            "A value is trying to be set on a copy of a slice from a DataFrame.\n",
            "Try using .loc[row_indexer,col_indexer] = value instead\n",
            "\n",
            "See the caveats in the documentation: https://pandas.pydata.org/pandas-docs/stable/user_guide/indexing.html#returning-a-view-versus-a-copy\n",
            "  test_data[var] = [(x - mean_var)/std_var for x in test_data[var]]\n"
          ]
        }
      ]
    },
    {
      "cell_type": "code",
      "source": [
        "train_data.head(5)"
      ],
      "metadata": {
        "colab": {
          "base_uri": "https://localhost:8080/",
          "height": 206
        },
        "id": "i9rWorS9gEb5",
        "outputId": "14d88bc4-51c0-4042-875b-9f5ba4c0a845"
      },
      "execution_count": 12,
      "outputs": [
        {
          "output_type": "execute_result",
          "data": {
            "text/plain": [
              "         size  bedrooms  bathrooms       age  Tehran  Esfehan  Yazd  Shiraz  \\\n",
              "477 -2.887943 -2.603149  -2.376818 -1.685239       0        0     1       0   \n",
              "292 -2.847742 -0.989297  -0.832366 -1.804305       0        0     0       0   \n",
              "470 -2.840433 -3.410075  -0.832366 -1.839033       0        0     0       1   \n",
              "982 -2.856096 -0.989297  -0.832366 -1.913449       0        0     0       0   \n",
              "448 -2.903606 -3.410075  -3.921270 -1.734850       1        0     0       0   \n",
              "\n",
              "     Tabriz         price   place  \n",
              "477       0  6.713785e+05    Yazd  \n",
              "292       1  1.090785e+06  Tabriz  \n",
              "470       0  1.253987e+06  Shiraz  \n",
              "982       1  1.049875e+06  Tabriz  \n",
              "448       0  5.749557e+05  Tehran  "
            ],
            "text/html": [
              "\n",
              "  <div id=\"df-86d34b1e-16b7-4021-ae38-da65c2209709\">\n",
              "    <div class=\"colab-df-container\">\n",
              "      <div>\n",
              "<style scoped>\n",
              "    .dataframe tbody tr th:only-of-type {\n",
              "        vertical-align: middle;\n",
              "    }\n",
              "\n",
              "    .dataframe tbody tr th {\n",
              "        vertical-align: top;\n",
              "    }\n",
              "\n",
              "    .dataframe thead th {\n",
              "        text-align: right;\n",
              "    }\n",
              "</style>\n",
              "<table border=\"1\" class=\"dataframe\">\n",
              "  <thead>\n",
              "    <tr style=\"text-align: right;\">\n",
              "      <th></th>\n",
              "      <th>size</th>\n",
              "      <th>bedrooms</th>\n",
              "      <th>bathrooms</th>\n",
              "      <th>age</th>\n",
              "      <th>Tehran</th>\n",
              "      <th>Esfehan</th>\n",
              "      <th>Yazd</th>\n",
              "      <th>Shiraz</th>\n",
              "      <th>Tabriz</th>\n",
              "      <th>price</th>\n",
              "      <th>place</th>\n",
              "    </tr>\n",
              "  </thead>\n",
              "  <tbody>\n",
              "    <tr>\n",
              "      <th>477</th>\n",
              "      <td>-2.887943</td>\n",
              "      <td>-2.603149</td>\n",
              "      <td>-2.376818</td>\n",
              "      <td>-1.685239</td>\n",
              "      <td>0</td>\n",
              "      <td>0</td>\n",
              "      <td>1</td>\n",
              "      <td>0</td>\n",
              "      <td>0</td>\n",
              "      <td>6.713785e+05</td>\n",
              "      <td>Yazd</td>\n",
              "    </tr>\n",
              "    <tr>\n",
              "      <th>292</th>\n",
              "      <td>-2.847742</td>\n",
              "      <td>-0.989297</td>\n",
              "      <td>-0.832366</td>\n",
              "      <td>-1.804305</td>\n",
              "      <td>0</td>\n",
              "      <td>0</td>\n",
              "      <td>0</td>\n",
              "      <td>0</td>\n",
              "      <td>1</td>\n",
              "      <td>1.090785e+06</td>\n",
              "      <td>Tabriz</td>\n",
              "    </tr>\n",
              "    <tr>\n",
              "      <th>470</th>\n",
              "      <td>-2.840433</td>\n",
              "      <td>-3.410075</td>\n",
              "      <td>-0.832366</td>\n",
              "      <td>-1.839033</td>\n",
              "      <td>0</td>\n",
              "      <td>0</td>\n",
              "      <td>0</td>\n",
              "      <td>1</td>\n",
              "      <td>0</td>\n",
              "      <td>1.253987e+06</td>\n",
              "      <td>Shiraz</td>\n",
              "    </tr>\n",
              "    <tr>\n",
              "      <th>982</th>\n",
              "      <td>-2.856096</td>\n",
              "      <td>-0.989297</td>\n",
              "      <td>-0.832366</td>\n",
              "      <td>-1.913449</td>\n",
              "      <td>0</td>\n",
              "      <td>0</td>\n",
              "      <td>0</td>\n",
              "      <td>0</td>\n",
              "      <td>1</td>\n",
              "      <td>1.049875e+06</td>\n",
              "      <td>Tabriz</td>\n",
              "    </tr>\n",
              "    <tr>\n",
              "      <th>448</th>\n",
              "      <td>-2.903606</td>\n",
              "      <td>-3.410075</td>\n",
              "      <td>-3.921270</td>\n",
              "      <td>-1.734850</td>\n",
              "      <td>1</td>\n",
              "      <td>0</td>\n",
              "      <td>0</td>\n",
              "      <td>0</td>\n",
              "      <td>0</td>\n",
              "      <td>5.749557e+05</td>\n",
              "      <td>Tehran</td>\n",
              "    </tr>\n",
              "  </tbody>\n",
              "</table>\n",
              "</div>\n",
              "      <button class=\"colab-df-convert\" onclick=\"convertToInteractive('df-86d34b1e-16b7-4021-ae38-da65c2209709')\"\n",
              "              title=\"Convert this dataframe to an interactive table.\"\n",
              "              style=\"display:none;\">\n",
              "        \n",
              "  <svg xmlns=\"http://www.w3.org/2000/svg\" height=\"24px\"viewBox=\"0 0 24 24\"\n",
              "       width=\"24px\">\n",
              "    <path d=\"M0 0h24v24H0V0z\" fill=\"none\"/>\n",
              "    <path d=\"M18.56 5.44l.94 2.06.94-2.06 2.06-.94-2.06-.94-.94-2.06-.94 2.06-2.06.94zm-11 1L8.5 8.5l.94-2.06 2.06-.94-2.06-.94L8.5 2.5l-.94 2.06-2.06.94zm10 10l.94 2.06.94-2.06 2.06-.94-2.06-.94-.94-2.06-.94 2.06-2.06.94z\"/><path d=\"M17.41 7.96l-1.37-1.37c-.4-.4-.92-.59-1.43-.59-.52 0-1.04.2-1.43.59L10.3 9.45l-7.72 7.72c-.78.78-.78 2.05 0 2.83L4 21.41c.39.39.9.59 1.41.59.51 0 1.02-.2 1.41-.59l7.78-7.78 2.81-2.81c.8-.78.8-2.07 0-2.86zM5.41 20L4 18.59l7.72-7.72 1.47 1.35L5.41 20z\"/>\n",
              "  </svg>\n",
              "      </button>\n",
              "      \n",
              "  <style>\n",
              "    .colab-df-container {\n",
              "      display:flex;\n",
              "      flex-wrap:wrap;\n",
              "      gap: 12px;\n",
              "    }\n",
              "\n",
              "    .colab-df-convert {\n",
              "      background-color: #E8F0FE;\n",
              "      border: none;\n",
              "      border-radius: 50%;\n",
              "      cursor: pointer;\n",
              "      display: none;\n",
              "      fill: #1967D2;\n",
              "      height: 32px;\n",
              "      padding: 0 0 0 0;\n",
              "      width: 32px;\n",
              "    }\n",
              "\n",
              "    .colab-df-convert:hover {\n",
              "      background-color: #E2EBFA;\n",
              "      box-shadow: 0px 1px 2px rgba(60, 64, 67, 0.3), 0px 1px 3px 1px rgba(60, 64, 67, 0.15);\n",
              "      fill: #174EA6;\n",
              "    }\n",
              "\n",
              "    [theme=dark] .colab-df-convert {\n",
              "      background-color: #3B4455;\n",
              "      fill: #D2E3FC;\n",
              "    }\n",
              "\n",
              "    [theme=dark] .colab-df-convert:hover {\n",
              "      background-color: #434B5C;\n",
              "      box-shadow: 0px 1px 3px 1px rgba(0, 0, 0, 0.15);\n",
              "      filter: drop-shadow(0px 1px 2px rgba(0, 0, 0, 0.3));\n",
              "      fill: #FFFFFF;\n",
              "    }\n",
              "  </style>\n",
              "\n",
              "      <script>\n",
              "        const buttonEl =\n",
              "          document.querySelector('#df-86d34b1e-16b7-4021-ae38-da65c2209709 button.colab-df-convert');\n",
              "        buttonEl.style.display =\n",
              "          google.colab.kernel.accessAllowed ? 'block' : 'none';\n",
              "\n",
              "        async function convertToInteractive(key) {\n",
              "          const element = document.querySelector('#df-86d34b1e-16b7-4021-ae38-da65c2209709');\n",
              "          const dataTable =\n",
              "            await google.colab.kernel.invokeFunction('convertToInteractive',\n",
              "                                                     [key], {});\n",
              "          if (!dataTable) return;\n",
              "\n",
              "          const docLinkHtml = 'Like what you see? Visit the ' +\n",
              "            '<a target=\"_blank\" href=https://colab.research.google.com/notebooks/data_table.ipynb>data table notebook</a>'\n",
              "            + ' to learn more about interactive tables.';\n",
              "          element.innerHTML = '';\n",
              "          dataTable['output_type'] = 'display_data';\n",
              "          await google.colab.output.renderOutput(dataTable, element);\n",
              "          const docLink = document.createElement('div');\n",
              "          docLink.innerHTML = docLinkHtml;\n",
              "          element.appendChild(docLink);\n",
              "        }\n",
              "      </script>\n",
              "    </div>\n",
              "  </div>\n",
              "  "
            ]
          },
          "metadata": {},
          "execution_count": 12
        }
      ]
    },
    {
      "cell_type": "markdown",
      "source": [
        "#MSE"
      ],
      "metadata": {
        "id": "IV09p9ZShH1V"
      }
    },
    {
      "cell_type": "markdown",
      "source": [
        "mse is the function to calculate Mean-Squared Erro along with the gradients(used for SGD function)"
      ],
      "metadata": {
        "id": "00a_r567IFRN"
      }
    },
    {
      "cell_type": "code",
      "source": [
        "def mse(y_true,y_pred):\n",
        "  return sum(np.power(([x-y for (x,y) in zip(y_true,y_pred)]),2))/len(y_true) , 2*(sum(([x-y for (x,y) in zip(y_true,y_pred)]))/len(y_true))"
      ],
      "metadata": {
        "id": "s5lb9stChFl6"
      },
      "execution_count": 13,
      "outputs": []
    },
    {
      "cell_type": "code",
      "source": [
        "mse([1,2,3],[0,0,0])"
      ],
      "metadata": {
        "colab": {
          "base_uri": "https://localhost:8080/"
        },
        "id": "X_I0HDAmhoJ-",
        "outputId": "b832fccd-3787-413c-d199-e09e0aab02c4"
      },
      "execution_count": 14,
      "outputs": [
        {
          "output_type": "execute_result",
          "data": {
            "text/plain": [
              "(4.666666666666667, 4.0)"
            ]
          },
          "metadata": {},
          "execution_count": 14
        }
      ]
    },
    {
      "cell_type": "markdown",
      "source": [
        "#SGD func"
      ],
      "metadata": {
        "id": "ODhTaa0LitWj"
      }
    },
    {
      "cell_type": "code",
      "source": [
        "def SGD(X,y,w,b,learning_rate):\n",
        "  #step 1 : calculate the prediction of current parameters\n",
        "  y_pred = np.matmul(X,w) +b\n",
        "  #calculate the loss function which in this case is the MSE, also get grads for bias updata\n",
        "  loss,grad = mse(y,y_pred)\n",
        "  #calculate gradients\n",
        "  b_gradient = -grad\n",
        "  w_gradient = -2 * (X.T @ (y - y_pred)) / len(y)\n",
        "  #update the parameters\n",
        "  b = b - (learning_rate * b_gradient)\n",
        "  w = w - (learning_rate * w_gradient)\n",
        "  return w,b,loss"
      ],
      "metadata": {
        "id": "pK4HZIIAic2T"
      },
      "execution_count": 32,
      "outputs": []
    },
    {
      "cell_type": "code",
      "source": [
        "X = train_data[[\"size\",\"bedrooms\",\"bathrooms\",\"age\",\"Tehran\",\"Esfehan\",\"Yazd\",\"Shiraz\",\"Tabriz\"]].to_numpy()\n",
        "y = np.array(train_data['price']).reshape((-1,1))\n",
        "b = 1\n",
        "w = np.random.randn(X.shape[1],1)"
      ],
      "metadata": {
        "id": "Rrl2eSGtDEwz"
      },
      "execution_count": 33,
      "outputs": []
    },
    {
      "cell_type": "code",
      "source": [
        "SGD(X,y,w,b,0.01)"
      ],
      "metadata": {
        "colab": {
          "base_uri": "https://localhost:8080/"
        },
        "id": "HCIKGCBi5N5Q",
        "outputId": "9a0ad39c-7a9f-4aba-8bd5-4e89d62b5921"
      },
      "execution_count": 34,
      "outputs": [
        {
          "output_type": "execute_result",
          "data": {
            "text/plain": [
              "(array([[-48265.55275918],\n",
              "        [-37379.28257314],\n",
              "        [-40946.34626516],\n",
              "        [-30326.62745223],\n",
              "        [  3692.65305659],\n",
              "        [  3134.22290226],\n",
              "        [  3069.91252453],\n",
              "        [  3501.51286368],\n",
              "        [  3419.92110351]]),\n",
              " array([16820.64621952]),\n",
              " array([7.57901192e+11]))"
            ]
          },
          "metadata": {},
          "execution_count": 34
        }
      ]
    },
    {
      "cell_type": "markdown",
      "source": [
        "#GradientDescentLinearRegression"
      ],
      "metadata": {
        "id": "W5RibvfSxlxQ"
      }
    },
    {
      "cell_type": "code",
      "source": [
        "class GradientDescentLinearRegression:\n",
        "  #in the _inti_ function, we initialize batch_size, epoch  and learning rate\n",
        "    def __init__(self, learning_rate=0.001, epoch=1000,batch_size = 64):\n",
        "        self.learning_rate, self.epoch, self.batch = learning_rate, epoch, batch_size\n",
        "        self.batch_split = 0\n",
        "\n",
        "  #this function is called when we want to train the model\n",
        "    def fit(self, X, y,X_test,Y_test):\n",
        "\n",
        "  #first we turn inputs from dataframe and list into np array objects\n",
        "        x_test, y_test = X_test.to_numpy(), np.array(Y_test).reshape((-1,1))\n",
        "\n",
        "  #initialising bias and weights, weights are chosen from mean 0 and variance matrix equivilant to I\n",
        "        self.b = 1\n",
        "        self.w = np.random.randn(X.shape[1],1)\n",
        "        n = X.shape[0]\n",
        "        self.batch_split = int(n/self.batch)\n",
        "\n",
        "  #the two lists are to be returned in the output\n",
        "        losses = []\n",
        "        test_losses = []\n",
        "\n",
        "  #we start each step\n",
        "        for e in range(self.epoch):\n",
        "\n",
        "  #this function returns batched indices, we will use these to get subsets of data for each SGD updata\n",
        "          batch_ind = self.batched(n)\n",
        "          total_loss = 0\n",
        "\n",
        "  #we start loop on each pack of data\n",
        "          for b in batch_ind:\n",
        "\n",
        "  #since SGD works with numpy obj, we first batch the data and then turn them into np objs\n",
        "            X_t,y_t = X.iloc[b].to_numpy(), np.array(pd.DataFrame(y).iloc[b]).reshape((-1,1))\n",
        "\n",
        "  #updating weights\n",
        "            self.w, self.b,loss = SGD(X_t, y_t, self.w, self.b, self.learning_rate)\n",
        "\n",
        "  #summing up loss\n",
        "            total_loss+=loss * len(y_t)\n",
        "\n",
        "  #now its time to calculate loss within train data\n",
        "          losses.append(total_loss / len(y))\n",
        "\n",
        "  #calculating the test data loss using the SGD, for ease of computation\n",
        "          _,_,test_loss = SGD(x_test, y_test, self.w, self.b, self.learning_rate)\n",
        "          test_losses.append(test_loss)\n",
        "\n",
        "        return losses, test_losses\n",
        "\n",
        "    def predict(self, X):\n",
        "        X.to_numpy()\n",
        "        return X@self.w + self.b\n",
        "\n",
        "  #this function shuffles a list of indices, turns them into batches and gives them back\n",
        "    def batched(self,leng):\n",
        "      random_list = np.arange(leng)\n",
        "      np.random.shuffle(random_list)\n",
        "      batches_ind = []\n",
        "      for ind in range(0,self.batch_split):\n",
        "        beg_ind = ind * self.batch\n",
        "        end_ind = min((ind+1) * self.batch,leng)\n",
        "        batches_ind.append(random_list[beg_ind:end_ind])\n",
        "      return batches_ind"
      ],
      "metadata": {
        "id": "ndJnqVIsxkyo"
      },
      "execution_count": 49,
      "outputs": []
    },
    {
      "cell_type": "code",
      "source": [
        "X = train_data[[\"size\",\"bedrooms\",\"bathrooms\",\"age\",\"Tehran\",\"Esfehan\",\"Yazd\",\"Shiraz\",\"Tabriz\"]]\n",
        "y = train_data['price']\n",
        "X_test = test_data[[\"size\",\"bedrooms\",\"bathrooms\",\"age\",\"Tehran\",\"Esfehan\",\"Yazd\",\"Shiraz\",\"Tabriz\"]]\n",
        "y_test = test_data['price']\n",
        "GDLR = GradientDescentLinearRegression(0.001,100,4)\n",
        "losses, t_losses = GDLR.fit(X,y,X_test,y_test)"
      ],
      "metadata": {
        "id": "WTu9pMkU1cDn"
      },
      "execution_count": 50,
      "outputs": []
    },
    {
      "cell_type": "code",
      "source": [
        "train_label = \"train_loss\"\n",
        "test_label = \"test_loss\"\n",
        "X = np.arange(len(losses))\n",
        "y1 = losses\n",
        "y2 = t_losses\n",
        "plt.plot(X,y1,'bo',linewidth =1 , markersize = 2)\n",
        "plt.plot(X,y2,'rx',linewidth =1 , markersize = 2)\n",
        "plt.title(\"loss per epoch\")\n",
        "plt.xlabel(\"Epoch\")\n",
        "plt.ylabel(\"loss\")\n",
        "plt.legend()\n",
        "plt.show()"
      ],
      "metadata": {
        "colab": {
          "base_uri": "https://localhost:8080/",
          "height": 489
        },
        "id": "QA0UYE2OVhVY",
        "outputId": "014ffaff-f756-477c-e4e2-474a72028d58"
      },
      "execution_count": 52,
      "outputs": [
        {
          "output_type": "stream",
          "name": "stderr",
          "text": [
            "WARNING:matplotlib.legend:No artists with labels found to put in legend.  Note that artists whose label start with an underscore are ignored when legend() is called with no argument.\n"
          ]
        },
        {
          "output_type": "display_data",
          "data": {
            "text/plain": [
              "<Figure size 640x480 with 1 Axes>"
            ],
            "image/png": "[encoded data removed]"
          },
          "metadata": {}
        }
      ]
    },
    {
      "cell_type": "markdown",
      "source": [
        "**Results are as expected :**\n",
        "train MSE is less than test MSE which is totally fine, since every model tends to learn residuals and error terms specifically related to it's training data.\n",
        "after some steps it seemingly has reached It's optimal point, For it is a simple Regression function, not much better was expected."
      ],
      "metadata": {
        "id": "xWIUclh1O8x0"
      }
    }
  ]
}