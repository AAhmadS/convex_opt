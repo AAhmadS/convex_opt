{
  "nbformat": 4,
  "nbformat_minor": 0,
  "metadata": {
    "colab": {
      "provenance": [],
      "authorship_tag": "ABX9TyMpP53fffM7YJ4Uq2vnmPjC",
      "include_colab_link": true
    },
    "kernelspec": {
      "name": "python3",
      "display_name": "Python 3"
    },
    "language_info": {
      "name": "python"
    }
  },
  "cells": [
    {
      "cell_type": "markdown",
      "metadata": {
        "id": "view-in-github",
        "colab_type": "text"
      },
      "source": [
        "<a href=\"https://colab.research.google.com/github/AAhmadS/convex_opt/blob/main/99104027_HW2.ipynb\" target=\"_parent\"><img src=\"https://colab.research.google.com/assets/colab-badge.svg\" alt=\"Open In Colab\"/></a>"
      ]
    },
    {
      "cell_type": "markdown",
      "source": [
        "#Problem 1"
      ],
      "metadata": {
        "id": "nRq4JZKBj6eY"
      }
    },
    {
      "cell_type": "markdown",
      "source": [
        "#Subproblem 1:\n",
        "\n",
        "First let's rewrite the likelihood function:<br/>\n",
        "$[N_t = k]= e^{-λ_t} λ_t ^ k / k!$<br/>\n",
        "thus the log-likelihood would be as follows:<br/>\n",
        "$−λ_t + N_tlog λ_t − log N_t!$<br/>\n",
        "now with the independency assumption, we can find the solution to the problem by minimizing the negative sum of log-likelihood of different t parameters:<br/>\n",
        "\n",
        "minimize $Σ_{t=1}{24}(λ_t - N_tlog λ_t + log N_t)$<br/>\n",
        "s.t $λ ≥ 0$<br/>\n",
        "\n",
        "with variables λ1, . . . , λ24. Note that when Nt > 0, the log λt term imposes an\n",
        "implicit constraint that λt > 0; we need the explicit inequality λ ≥ 0 to cover\n",
        "the case when Nt = 0.\n",
        "This problem is separable in t, so we can separately minimize over each λt\n",
        ". Let’s\n",
        "first assume that Nt > 0. Then the minimizer satisfies\n",
        " $1 − N_t/λ_t = 0$\n",
        " , so\n",
        " $λ_t = N_t$\n",
        ".\n",
        "For\n",
        "$Nt = 0$\n",
        ", we minimize λₜ\n",
        ", subject to\n",
        "$λ_t ≥ 0$\n",
        ". This gives\n",
        "$λt = 0$.\n",
        " So in all cases\n",
        "the MLE estimate is\n",
        "$λ_t = N_t$."
      ],
      "metadata": {
        "id": "ckkthDKhPCah"
      }
    },
    {
      "cell_type": "markdown",
      "source": [
        "#Subproblem 2\n",
        "\n"
      ],
      "metadata": {
        "id": "S7ODitD5Rhm6"
      }
    },
    {
      "cell_type": "code",
      "source": [
        "import pprint\n",
        "import scipy\n",
        "import scipy.linalg\n",
        "import random\n",
        "import numpy as np"
      ],
      "metadata": {
        "id": "MRGiv39oD5lH"
      },
      "execution_count": 1,
      "outputs": []
    },
    {
      "cell_type": "code",
      "source": [],
      "metadata": {
        "id": "GU9nW779rpDR"
      },
      "execution_count": null,
      "outputs": []
    }
  ]
}